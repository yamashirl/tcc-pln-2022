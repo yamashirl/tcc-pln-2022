{
 "cells": [
  {
   "cell_type": "code",
   "execution_count": 1,
   "metadata": {},
   "outputs": [],
   "source": [
    "import json\n",
    "import os\n",
    "from os import path\n",
    "import time\n",
    "import re\n",
    "\n",
    "import numpy as np\n",
    "import pandas as pd\n",
    "import matplotlib.pyplot as plt\n",
    "from tqdm import tqdm\n",
    "\n",
    "import spacy\n",
    "\n",
    "import mysql.connector\n",
    "\n",
    "sql_config = {\n",
    "    'user': 'root',\n",
    "    'password': 'see-cret',\n",
    "    'host': 'localhost',\n",
    "    'database': 'tcc'\n",
    "}\n",
    "\n",
    "DIRETORIO_PDF = 'BauruPDF/'\n",
    "DIRETORIO_TXT = 'BauruTXT/'\n",
    "DIRETORIO_DOC = 'BauruDOC/'\n",
    "DIRETORIO_PAR = 'BauruPAR/'\n",
    "DIRETORIO_JSON = 'BauruJSON/'\n",
    "\n",
    "nlp_exclude_list = ['parser',\n",
    "                    'ner',\n",
    "                    'entity_linker',\n",
    "                    'entity_ruler',\n",
    "                    'textcat',\n",
    "                    'textcat_multilabel',\n",
    "                    'lemmatizer',\n",
    "                    'trainable_lemmatizer',\n",
    "                    'morphologizer',\n",
    "                    'attribute_ruler',\n",
    "                    'senter',\n",
    "                    'sentencizer',\n",
    "                    'tok2vec',\n",
    "                    'transformer']\n",
    "nlp = spacy.load('pt_core_news_lg', exclude = nlp_exclude_list)"
   ]
  },
  {
   "cell_type": "code",
   "execution_count": 2,
   "metadata": {},
   "outputs": [
    {
     "name": "stdout",
     "output_type": "stream",
     "text": [
      "tempo de carregamento dos .json 2.285004138946533\n"
     ]
    }
   ],
   "source": [
    "time_in = time.time()\n",
    "licitacoes_json = []\n",
    "for l in os.listdir(DIRETORIO_JSON):\n",
    "    with open(path.join(DIRETORIO_JSON, l), 'r') as arquivo:\n",
    "        licitacoes_json.append(json.load(arquivo))\n",
    "time_out = time.time()\n",
    "print('tempo de carregamento dos .json', time_out - time_in)"
   ]
  },
  {
   "cell_type": "code",
   "execution_count": 3,
   "metadata": {},
   "outputs": [],
   "source": [
    "with mysql.connector.connect(**sql_config) as connection:\n",
    "    cursor = connection.cursor()\n",
    "    \n",
    "    try:\n",
    "        cursor.execute('SELECT * FROM licitacao')\n",
    "        for d in cursor:\n",
    "            print(d)\n",
    "        cursor.close()\n",
    "    except mysql.connector.Error as e:\n",
    "        print('ERRO', e)"
   ]
  },
  {
   "cell_type": "code",
   "execution_count": 4,
   "metadata": {},
   "outputs": [
    {
     "name": "stderr",
     "output_type": "stream",
     "text": [
      "100%|██████████| 3555/3555 [00:41<00:00, 86.62it/s] "
     ]
    },
    {
     "name": "stdout",
     "output_type": "stream",
     "text": [
      "41.10868978500366\n"
     ]
    },
    {
     "name": "stderr",
     "output_type": "stream",
     "text": [
      "\n"
     ]
    }
   ],
   "source": [
    "time_in = time.time()\n",
    "\n",
    "for licitacao in tqdm(licitacoes):\n",
    "    # Verifica existencia de modalidade\n",
    "    with mysql.connector.connect(**sql_config) as connection:\n",
    "        cursor = connection.cursor()\n",
    "        \n",
    "        try:\n",
    "            titulo_modalidade = licitacao['titulo_modalidade']\n",
    "            cursor.execute(f'SELECT modalidade_id FROM modalidade WHERE descricao LIKE \"{titulo_modalidade}\"')\n",
    "            cursor.fetchall()\n",
    "            if cursor.rowcount == 0:\n",
    "                cursor.execute(f'INSERT INTO modalidade(descricao) VALUES (\"{titulo_modalidade}\")')\n",
    "                cursor.fetchall()\n",
    "            connection.commit()\n",
    "        except mysql.connector.Error as e:\n",
    "            print('ERRO', e)\n",
    "            connection.rollback()\n",
    "            break\n",
    "        finally:\n",
    "            cursor.close()\n",
    "        \n",
    "time_out = time.time()\n",
    "print(time_out - time_in)"
   ]
  },
  {
   "cell_type": "code",
   "execution_count": 5,
   "metadata": {},
   "outputs": [
    {
     "name": "stdout",
     "output_type": "stream",
     "text": [
      "4.435302972793579\n"
     ]
    }
   ],
   "source": [
    "time_in = time.time()\n",
    "with mysql.connector.connect(**sql_config) as connection:\n",
    "    cursor = connection.cursor()\n",
    "    \n",
    "    for licitacao in licitacoes:\n",
    "        try:\n",
    "            interessado = licitacao['interessado']\n",
    "            cursor.execute(f'SELECT interessado_id FROM interessado WHERE descricao LIKE \"{interessado}\"')\n",
    "            cursor.fetchall()\n",
    "            if cursor.rowcount == 0:\n",
    "                cursor.execute(f'INSERT INTO interessado(descricao) VALUES (\"{interessado}\")')\n",
    "                cursor.fetchall()\n",
    "            connection.commit()\n",
    "        except mysql.connector.Error as e:\n",
    "            print('ERRO', e)\n",
    "            connection.rollback()\n",
    "            break\n",
    "    cursor.close()\n",
    "time_out = time.time()\n",
    "print(time_out - time_in)"
   ]
  },
  {
   "cell_type": "code",
   "execution_count": 6,
   "metadata": {},
   "outputs": [
    {
     "name": "stderr",
     "output_type": "stream",
     "text": [
      "100%|██████████| 3555/3555 [00:02<00:00, 1525.72it/s]"
     ]
    },
    {
     "name": "stdout",
     "output_type": "stream",
     "text": [
      "2.3483805656433105\n"
     ]
    },
    {
     "name": "stderr",
     "output_type": "stream",
     "text": [
      "\n"
     ]
    }
   ],
   "source": [
    "time_in = time.time()\n",
    "with mysql.connector.connect(**sql_config) as connection:\n",
    "    cursor = connection.cursor()\n",
    "    \n",
    "    for licitacao in tqdm(licitacoes):\n",
    "        try:\n",
    "            tipo = licitacao['tipo']\n",
    "            cursor.execute(f'SELECT tipo_id FROM tipo WHERE descricao LIKE \"{tipo}\"')\n",
    "            cursor.fetchall()\n",
    "            if cursor.rowcount == 0:\n",
    "                cursor.execute(f'INSERT INTO tipo(descricao) VALUES (\"{tipo}\")')\n",
    "                cursor.fetchall()\n",
    "            connection.commit()\n",
    "        except mysql.connector.Error as e:\n",
    "            print('ERRO', e)\n",
    "            connection.rollback()\n",
    "            break\n",
    "    cursor.close()\n",
    "time_out = time.time()\n",
    "print(time_out - time_in)"
   ]
  },
  {
   "cell_type": "code",
   "execution_count": 7,
   "metadata": {},
   "outputs": [
    {
     "name": "stderr",
     "output_type": "stream",
     "text": [
      "100%|██████████| 6593/6593 [00:05<00:00, 1156.86it/s]"
     ]
    },
    {
     "name": "stdout",
     "output_type": "stream",
     "text": [
      "5.716196060180664\n"
     ]
    },
    {
     "name": "stderr",
     "output_type": "stream",
     "text": [
      "\n"
     ]
    }
   ],
   "source": [
    "time_in = time.time()\n",
    "with mysql.connector.connect(**sql_config) as connection:\n",
    "    cursor = connection.cursor()\n",
    "    \n",
    "    for publicacao in tqdm(publicacoes):\n",
    "        try:\n",
    "            titulo = publicacao['titulo']\n",
    "            cursor.execute(f'SELECT publicacao_titulo_id FROM publicacao_titulo WHERE descricao LIKE \"{titulo}\"')\n",
    "            cursor.fetchall()\n",
    "            if cursor.rowcount == 0:\n",
    "                cursor.execute(f'INSERT INTO publicacao_titulo(descricao) VALUES (\"{titulo}\")')\n",
    "                cursor.fetchall()\n",
    "            connection.commit()\n",
    "        except mysql.connector.Error as e:\n",
    "            print('ERRO', e)\n",
    "            connection.rollback()\n",
    "            break\n",
    "    cursor.close()\n",
    "time_out = time.time()\n",
    "print(time_out - time_in)"
   ]
  },
  {
   "cell_type": "code",
   "execution_count": 8,
   "metadata": {},
   "outputs": [
    {
     "name": "stderr",
     "output_type": "stream",
     "text": [
      "100%|██████████| 3555/3555 [00:09<00:00, 374.57it/s]"
     ]
    },
    {
     "name": "stdout",
     "output_type": "stream",
     "text": [
      "9.652346849441528\n"
     ]
    },
    {
     "name": "stderr",
     "output_type": "stream",
     "text": [
      "\n"
     ]
    }
   ],
   "source": [
    "time_in = time.time()\n",
    "with mysql.connector.connect(**sql_config) as connection:\n",
    "    cursor = connection.cursor()\n",
    "    \n",
    "    for licitacao in tqdm(licitacoes):\n",
    "        try:\n",
    "            titulo_modalidade = licitacao['titulo_modalidade']\n",
    "            cursor.execute(f'SELECT modalidade_id FROM modalidade WHERE descricao LIKE \"{titulo_modalidade}\"')\n",
    "            modalidade_id = cursor.fetchone()[0]\n",
    "            cursor.fetchall()\n",
    "            \n",
    "            interessado = licitacao['interessado']\n",
    "            cursor.execute(f'SELECT interessado_id FROM interessado WHERE descricao LIKE \"{interessado}\"')\n",
    "            interessado_id = cursor.fetchone()[0]\n",
    "            \n",
    "            tipo = licitacao['tipo']\n",
    "            cursor.execute(f'SELECT tipo_id FROM tipo WHERE descricao LIKE \"{tipo}\"')\n",
    "            tipo_id = cursor.fetchone()[0]\n",
    "            cursor.fetchall()\n",
    "            \n",
    "            identificador = licitacao['identificador']\n",
    "            numero_modalidade = licitacao['titulo_numero']\n",
    "            ano_modalidade = licitacao['titulo_ano']\n",
    "            numero_processo = licitacao['processo_numero']\n",
    "            ano_processo = licitacao['processo_ano']\n",
    "            \n",
    "            cursor.execute(f'INSERT INTO licitacao(identificador, modalidade_id, numero_modalidade, ano_modalidade, tipo_id, interessado_id, numero_processo, ano_processo)' +\n",
    "                          f'VALUES ({identificador}, {modalidade_id}, {numero_modalidade}, {ano_modalidade}, {tipo_id}, {interessado_id}, {numero_processo}, {ano_processo})')\n",
    "            \n",
    "        except mysql.connector.Error as e:\n",
    "            print('ERRO', e)\n",
    "            connection.rollback()\n",
    "            break\n",
    "    cursor.close()\n",
    "    connection.commit()\n",
    "    \n",
    "time_out = time.time()\n",
    "print(time_out - time_in)"
   ]
  },
  {
   "cell_type": "code",
   "execution_count": 9,
   "metadata": {},
   "outputs": [
    {
     "name": "stderr",
     "output_type": "stream",
     "text": [
      "100%|██████████| 6593/6593 [00:11<00:00, 591.12it/s] \n"
     ]
    },
    {
     "name": "stdout",
     "output_type": "stream",
     "text": [
      "11.527003049850464\n"
     ]
    }
   ],
   "source": [
    "time_in = time.time()\n",
    "\n",
    "with mysql.connector.connect(**sql_config) as connection:\n",
    "    cursor = connection.cursor()\n",
    "    \n",
    "    for publicacao in tqdm(publicacoes):\n",
    "        try:\n",
    "            publicacao_titulo = publicacao['titulo']\n",
    "            cursor.execute(f'SELECT publicacao_titulo_id FROM publicacao_titulo WHERE descricao LIKE \"{publicacao_titulo}\"')\n",
    "            publicacao_titulo_id = cursor.fetchone()[0]\n",
    "            cursor.fetchall()\n",
    "            \n",
    "            identificador = publicacao['identificador']\n",
    "            ano = publicacao['ano']\n",
    "            mes = publicacao['mes']\n",
    "            conteudo = publicacao['publicacao']\n",
    "            \n",
    "#             cursor.execute(f'INSERT INTO publicacao(identificador, publicacao_titulo_id, ano, mes, conteudo)' +\n",
    "#                            f'VALUES ({identificador}, {publicacao_titulo_id}, {ano}, {mes}, \"{conteudo}\")')\n",
    "            cursor.execute('INSERT INTO publicacao(identificador, publicacao_titulo_id, ano, mes, conteudo) VALUES (%s, %s, %s, %s, %s)',\n",
    "                          (identificador, publicacao_titulo_id, ano, mes, conteudo))\n",
    "        except mysql.connector.Error as e:\n",
    "            print('ERRO', e)\n",
    "            cursor.close()\n",
    "            connection.rollback()\n",
    "            break\n",
    "    cursor.close()\n",
    "    connection.commit()\n",
    "        \n",
    "time_out = time.time()\n",
    "print(time_out - time_in)"
   ]
  },
  {
   "cell_type": "code",
   "execution_count": 10,
   "metadata": {},
   "outputs": [
    {
     "name": "stderr",
     "output_type": "stream",
     "text": [
      "100%|██████████| 3555/3555 [00:03<00:00, 1118.33it/s]\n"
     ]
    },
    {
     "name": "stdout",
     "output_type": "stream",
     "text": [
      "3.400820732116699\n"
     ]
    }
   ],
   "source": [
    "time_in = time.time()\n",
    "\n",
    "with mysql.connector.connect(**sql_config) as connection:\n",
    "    cursor = connection.cursor()\n",
    "    \n",
    "    for licitacao in tqdm(licitacoes):\n",
    "        if 'observacao' not in licitacao:\n",
    "            continue\n",
    "            \n",
    "        try:\n",
    "            identificador = licitacao['identificador']\n",
    "            observacao = licitacao['observacao']\n",
    "            \n",
    "            cursor.execute('INSERT INTO observacao(identificador, conteudo) VALUES (%s, %s)',\n",
    "                          (identificador, observacao))\n",
    "        except mysql.connector.Error as e:\n",
    "            print('ERRO', e)\n",
    "            cursor.close()\n",
    "            connection.rollback()\n",
    "            break\n",
    "    cursor.close()\n",
    "    connection.commit()\n",
    "        \n",
    "time_out = time.time()\n",
    "print(time_out - time_in)"
   ]
  },
  {
   "cell_type": "code",
   "execution_count": 3,
   "metadata": {},
   "outputs": [],
   "source": [
    "licitacoes = []\n",
    "for licitacao in licitacoes_json:\n",
    "    l = {}\n",
    "    l['identificador'] = licitacao['identificador']\n",
    "    l['titulo_modalidade'] = licitacao['titulo']['modalidade']\n",
    "    l['titulo_numero'] = licitacao['titulo']['numero']\n",
    "    l['titulo_ano'] = licitacao['titulo']['ano']\n",
    "    l['tipo'] = licitacao['tipo']\n",
    "    l['interessado'] = licitacao['interessado']\n",
    "    l['processo_numero'] = licitacao['processo']['numero']\n",
    "    l['processo_ano'] = licitacao['processo']['ano']\n",
    "    if 'observacao' in licitacao:\n",
    "        l['observacao'] = licitacao['observacao']\n",
    "    licitacoes.append(l)\n",
    "\n",
    "especificacoes = []\n",
    "for licitacao in licitacoes_json:\n",
    "    if 'especificacao' in licitacao:\n",
    "        e = {}\n",
    "        e['identificador'] = licitacao['identificador']\n",
    "        e['especificacao'] = licitacao['especificacao']\n",
    "        especificacoes.append(e)\n",
    "\n",
    "publicacoes = []\n",
    "for licitacao in licitacoes_json:\n",
    "    if 'publicacoes' in licitacao:\n",
    "        for publicacao in licitacao['publicacoes']:\n",
    "            p = {}\n",
    "            p['identificador'] = licitacao['identificador']\n",
    "            p['titulo'] = publicacao['titulo']\n",
    "            p['ano'] = publicacao['ano']\n",
    "            p['mes'] = publicacao['mes']\n",
    "            p['dia'] = publicacao['dia']\n",
    "            p['publicacao'] = publicacao['conteudo']\n",
    "            publicacoes.append(p)\n",
    "            \n",
    "documentos = []\n",
    "for licitacao in licitacoes_json:\n",
    "    if 'documentos' in licitacao:\n",
    "        for documento in licitacao['documentos']:\n",
    "            d = {}\n",
    "            d['identificador'] = licitacao['identificador']\n",
    "            d['nome'] = documento['nome']\n",
    "            d['numero'] = documento['numero']\n",
    "            if 'ano' in documento:\n",
    "                d['ano'] = documento['ano']\n",
    "            d['link'] = documento['link']\n",
    "            \n",
    "            documentos.append(d)\n",
    "\n",
    "processos_apensados = []\n",
    "for licitacao in licitacoes_json:\n",
    "    if 'processos_apensados' in licitacao:\n",
    "        for processo_apensado in licitacao['processos_apensados']:\n",
    "            p = {}\n",
    "            p['identificador'] = licitacao['identificador']\n",
    "            p['numero'] = processo_apensado['numero']\n",
    "            p['ano'] = processo_apensado['ano']\n",
    "            processos_apensados.append(p)\n",
    "\n",
    "prazos = []\n",
    "for licitacao in licitacoes_json:\n",
    "    if 'prazo_recebimento_propostas' in licitacao:\n",
    "        prazo = licitacao['prazo_recebimento_propostas']\n",
    "        p = {}\n",
    "        \n",
    "        p['identificador'] = licitacao['identificador']\n",
    "        p['tipo'] = 'Recebimento Propostas'\n",
    "        p['ano'] = prazo['ano']\n",
    "        p['mes'] = prazo['mes']\n",
    "        p['dia'] = prazo['dia']\n",
    "        p['hora'] = prazo['hora']\n",
    "        p['minuto'] = prazo['minuto']\n",
    "        \n",
    "        prazos.append(p)\n",
    "        \n",
    "    if 'prazo_apresentacao_propostas' in licitacao:\n",
    "        prazo = licitacao['prazo_apresentacao_propostas']\n",
    "        p = {}\n",
    "        \n",
    "        p['identificador'] = licitacao['identificador']\n",
    "        p['tipo'] = 'Apresentação de Propostas'\n",
    "        p['ano'] = prazo['ano']\n",
    "        p['mes'] = prazo['mes']\n",
    "        p['dia'] = prazo['dia']\n",
    "        p['hora'] = prazo['hora']\n",
    "        p['minuto'] = prazo['minuto']\n",
    "        \n",
    "        prazos.append(p)\n",
    "        \n",
    "    if 'prazo_entrega_envelopes' in licitacao:\n",
    "        prazo = licitacao['prazo_entrega_envelopes']\n",
    "        p = {}\n",
    "        \n",
    "        p['identificador'] = licitacao['identificador']\n",
    "        p['tipo'] = 'Entrega dos Envelopes'\n",
    "        p['ano'] = prazo['ano']\n",
    "        p['mes'] = prazo['mes']\n",
    "        p['dia'] = prazo['dia']\n",
    "        p['hora'] = prazo['hora']\n",
    "        p['minuto'] = prazo['minuto']\n",
    "        \n",
    "        prazos.append(p)\n",
    "        \n",
    "    if 'data_vencimento' in licitacao:\n",
    "        prazo = licitacao['data_vencimento']\n",
    "        p = {}\n",
    "        \n",
    "        p['identificador'] = licitacao['identificador']\n",
    "        p['tipo'] = 'Data de vencimento'\n",
    "        p['ano'] = prazo['ano']\n",
    "        p['mes'] = prazo['mes']\n",
    "        p['dia'] = prazo['dia']\n",
    "        p['hora'] = prazo['hora']\n",
    "        p['minuto'] = prazo['minuto']\n",
    "        \n",
    "        prazos.append(p)\n",
    "        \n",
    "    if 'data' in licitacao:\n",
    "        prazo = licitacao['data']\n",
    "        p = {}\n",
    "        \n",
    "        p['identificador'] = licitacao['identificador']\n",
    "        p['tipo'] = 'Data'\n",
    "        p['ano'] = prazo['ano']\n",
    "        p['mes'] = prazo['mes']\n",
    "        p['dia'] = prazo['dia']\n",
    "        p['hora'] = prazo['hora']\n",
    "        p['minuto'] = prazo['minuto']\n",
    "        \n",
    "        prazos.append(p)"
   ]
  },
  {
   "cell_type": "code",
   "execution_count": 3,
   "metadata": {
    "scrolled": true
   },
   "outputs": [],
   "source": [
    "df_licitacoes = pd.DataFrame(licitacoes)\n",
    "df_especificacoes = pd.DataFrame(especificacoes)\n",
    "df_publicacoes = pd.DataFrame(publicacoes)\n",
    "df_documentos = pd.DataFrame(documentos)\n",
    "df_apensados = pd.DataFrame(processos_apensados)\n",
    "df_prazos = pd.DataFrame(prazos)\n",
    "\n",
    "# print(df_licitacoes.info(), '\\n')\n",
    "# print(df_especificacoes.info(), '\\n')\n",
    "# print(df_publicacoes.info(), '\\n')\n",
    "# print(df_documentos.info(), '\\n')\n",
    "# print(df_apensados.info(), '\\n')\n",
    "# print(df_prazos.info(), '\\n')"
   ]
  },
  {
   "cell_type": "code",
   "execution_count": 4,
   "metadata": {},
   "outputs": [
    {
     "data": {
      "text/html": [
       "<div>\n",
       "<style scoped>\n",
       "    .dataframe tbody tr th:only-of-type {\n",
       "        vertical-align: middle;\n",
       "    }\n",
       "\n",
       "    .dataframe tbody tr th {\n",
       "        vertical-align: top;\n",
       "    }\n",
       "\n",
       "    .dataframe thead th {\n",
       "        text-align: right;\n",
       "    }\n",
       "</style>\n",
       "<table border=\"1\" class=\"dataframe\">\n",
       "  <thead>\n",
       "    <tr style=\"text-align: right;\">\n",
       "      <th></th>\n",
       "      <th>identificador</th>\n",
       "      <th>titulo</th>\n",
       "      <th>ano</th>\n",
       "      <th>mes</th>\n",
       "      <th>dia</th>\n",
       "      <th>publicacao</th>\n",
       "    </tr>\n",
       "  </thead>\n",
       "  <tbody>\n",
       "    <tr>\n",
       "      <th>1296</th>\n",
       "      <td>4123</td>\n",
       "      <td>Homologação</td>\n",
       "      <td>2017</td>\n",
       "      <td>04</td>\n",
       "      <td>27</td>\n",
       "      <td>NOTIFICAÇÃO DE ADJUDICAÇÃO E HOMOLOGAÇÃO - \\r...</td>\n",
       "    </tr>\n",
       "  </tbody>\n",
       "</table>\n",
       "</div>"
      ],
      "text/plain": [
       "     identificador       titulo   ano mes dia  \\\n",
       "1296          4123  Homologação  2017  04  27   \n",
       "\n",
       "                                             publicacao  \n",
       "1296   NOTIFICAÇÃO DE ADJUDICAÇÃO E HOMOLOGAÇÃO - \\r...  "
      ]
     },
     "execution_count": 4,
     "metadata": {},
     "output_type": "execute_result"
    }
   ],
   "source": [
    "df_licitacoes[df_licitacoes['identificador'] == '4123']\n",
    "df_publicacoes[df_publicacoes['identificador'] == '4123']"
   ]
  },
  {
   "cell_type": "code",
   "execution_count": 5,
   "metadata": {
    "scrolled": true
   },
   "outputs": [],
   "source": [
    "re_edital = re.compile('Edital', flags = re.IGNORECASE)\n",
    "re_processo = re.compile('Processo', flags = re.IGNORECASE)\n",
    "re_numero_ano = re.compile('((?P<numero>\\d{1,3}(\\.\\d{3})?)/(?P<ano>\\d{2,4}))')\n",
    "\n",
    "lookahead = 20\n",
    "\n",
    "#df_sample = df_publicacoes.sample(100)\n",
    "    \n",
    "def test(p, busca):\n",
    "    pub = p['publicacao']\n",
    "    busca_matches = busca.finditer(pub)\n",
    "    busca_start = -1\n",
    "    busca_end = 0\n",
    "    \n",
    "    for busca_match in busca_matches:\n",
    "        new_str = pub[busca_match.end():busca_match.end() + lookahead]\n",
    "        numero_matches = re_numero_ano.search(new_str)\n",
    "        \n",
    "        if numero_matches != None:\n",
    "            busca_start = busca_match.start()\n",
    "            busca_end = busca_match.end() + numero_matches.end()\n",
    "            break\n",
    "            \n",
    "    if busca_end != 0:\n",
    "        return True\n",
    "    else:\n",
    "        return False\n",
    "\n",
    "df_tem_processo = df_publicacoes.apply(lambda p: test(p, re_processo), axis = 1)\n",
    "df_tem_edital = df_publicacoes.apply(lambda p: test(p, re_edital), axis = 1)"
   ]
  },
  {
   "cell_type": "code",
   "execution_count": 6,
   "metadata": {},
   "outputs": [],
   "source": [
    "df_tem = pd.DataFrame()\n",
    "df_tem['identificador'] = df_publicacoes['identificador']\n",
    "df_tem['tem_processo'] = df_tem_processo\n",
    "df_tem['tem_edital'] = df_tem_edital\n",
    "df_none = df_tem[(df_tem['tem_edital'] == False) & (df_tem['tem_processo'] == False)]"
   ]
  },
  {
   "cell_type": "code",
   "execution_count": null,
   "metadata": {
    "scrolled": false
   },
   "outputs": [],
   "source": []
  }
 ],
 "metadata": {
  "kernelspec": {
   "display_name": "Python 3 (ipykernel)",
   "language": "python",
   "name": "python3"
  },
  "language_info": {
   "codemirror_mode": {
    "name": "ipython",
    "version": 3
   },
   "file_extension": ".py",
   "mimetype": "text/x-python",
   "name": "python",
   "nbconvert_exporter": "python",
   "pygments_lexer": "ipython3",
   "version": "3.10.4"
  }
 },
 "nbformat": 4,
 "nbformat_minor": 4
}
