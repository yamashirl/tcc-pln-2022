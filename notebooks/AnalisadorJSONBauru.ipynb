{
 "cells": [
  {
   "cell_type": "code",
   "execution_count": 108,
   "metadata": {},
   "outputs": [],
   "source": [
    "import os\n",
    "from os import path\n",
    "import re\n",
    "import json\n",
    "import time\n",
    "import math\n",
    "\n",
    "from tqdm import tqdm\n",
    "import numpy as np\n",
    "import pandas as pd\n",
    "import matplotlib.pyplot as plt\n",
    "\n",
    "import spacy\n",
    "\n",
    "DIRETORIO_PDF = 'BauruPDF/'\n",
    "DIRETORIO_TXT = 'BauruTXT/'\n",
    "DIRETORIO_DOC = 'BauruDOC/'\n",
    "DIRETORIO_PAR = 'BauruPAR/'\n",
    "DIRETORIO_JSON = 'BauruJSON/'\n",
    "\n",
    "nlp_exclude_list = ['parser',\n",
    "                    'ner',\n",
    "                    'entity_linker',\n",
    "                    'entity_ruler',\n",
    "                    'textcat',\n",
    "                    'textcat_multilabel',\n",
    "                    'lemmatizer',\n",
    "                    'trainable_lemmatizer',\n",
    "                    'morphologizer',\n",
    "                    'attribute_ruler',\n",
    "                    'senter',\n",
    "                    'sentencizer',\n",
    "                    'tok2vec',\n",
    "                    'transformer']\n",
    "global_nlp = spacy.load('pt_core_news_lg', exclude = nlp_exclude_list)"
   ]
  },
  {
   "cell_type": "code",
   "execution_count": 342,
   "metadata": {},
   "outputs": [],
   "source": [
    "def similaridade_cosseno(a, b):\n",
    "    \"\"\"\n",
    "    Calcula a similaridade de cosseno entre dois dicts.\n",
    "    Supõe-se que as chaves são iguais, compondo \"vetores\" a e b em um mesmo espaço.\n",
    "    Como se trata de sacos de palavras, os vetores terão apenas valores inteiros positivos,\n",
    "    logo a similaridade não poderão assumir similaridades negativas.\n",
    "    \n",
    "    :param a dict: \"vetor\" a\n",
    "    :param b dict: \"vetor\" b\n",
    "    \n",
    "    :returns: valor no intervalo [0, 1] similaridade cosseno entre os \"vetores\" a e b.\n",
    "    \"\"\"\n",
    "    \n",
    "    assert type(a) == dict\n",
    "    assert type(b) == dict\n",
    "    assert a.keys() == b.keys()\n",
    "    \n",
    "    produto_escalar  = 0\n",
    "    soma_a = 0\n",
    "    soma_b = 0\n",
    "    \n",
    "    for k in a:\n",
    "        produto_escalar  += a[k] * b[k]\n",
    "        soma_a           += math.pow(a[k], 2)\n",
    "        soma_b           += math.pow(b[k], 2)\n",
    "\n",
    "    magnitude = math.sqrt(soma_a) * math.sqrt(soma_b)\n",
    "    \n",
    "    if abs(magnitude) < 1e-3:\n",
    "        similaridade = 0\n",
    "    else:\n",
    "        similaridade = produto_escalar / magnitude\n",
    "    \n",
    "    return similaridade\n",
    "\n",
    "def atualiza_chaves(d, ks):\n",
    "    \"\"\"\n",
    "    Atualiza as chaves do dict d para conter também as chaves ks.\n",
    "    \n",
    "    :param d dict: dict a ser atualizado\n",
    "    :param ks dict_keys: chaves a serem adicionadas em d\n",
    "    \n",
    "    :returns: dict d\n",
    "    \"\"\"\n",
    "    \n",
    "    for k in ks:\n",
    "        if k not in d:\n",
    "            d[k] = 0\n",
    "\n",
    "    return d\n",
    "\n",
    "def token_valido(token):\n",
    "    \"\"\"\n",
    "    Verifica se um token é valido para ser incluído no saco de palavras\n",
    "    \n",
    "    :param token spacy.tokens.Token: token a ser verificado\n",
    "    \n",
    "    :returns: bool se é válido ou não\n",
    "    \"\"\"\n",
    "    \n",
    "    assert type(token) == spacy.tokens.Token\n",
    "    \n",
    "    return not (token.is_stop\n",
    "               or token.is_space\n",
    "               or token.is_punct\n",
    "               or token.is_currency\n",
    "               or token.is_quote\n",
    "               or token.is_bracket\n",
    "               or token.like_num\n",
    "               or token.is_oov)\n",
    "\n",
    "def monta_saco_palavras(doc, saco = None):\n",
    "    \"\"\"\n",
    "    Monta/atualiza o saco de palavras de um doc com os tokens válidos da função token_valido.\n",
    "    \n",
    "    :param doc spacy.tokens.Doc: Doc a ser utilizado no saco de palavras.\n",
    "    :keyword saco dict: saco de palavras a ser atualizado, ou criado, caso não especificado\n",
    "    \n",
    "    :returns: saco de palavras criado, ou atualizado\n",
    "    \"\"\"\n",
    "    \n",
    "    if saco == None:\n",
    "        saco = dict()\n",
    "    \n",
    "    for token in doc:\n",
    "        if token_valido(token):\n",
    "            chave = token.norm_\n",
    "            if chave not in saco:\n",
    "                saco[chave] = 0\n",
    "            saco[chave] += 1\n",
    "        else:\n",
    "            pass\n",
    "    return saco\n",
    "\n",
    "# def inicializa_novo_saco_com_template(template):\n",
    "#     \"\"\"\n",
    "#     Inicializa um novo saco vazio a partir de um template.\n",
    "#     Ou seja, inicializa um saco vazio com as chaves dadas por um template.\n",
    "    \n",
    "#     :param template dict: template do saco de palavras\n",
    "    \n",
    "#     :returns: novo saco de palavras\n",
    "#     \"\"\"\n",
    "#     assert type(template) == dict\n",
    "    \n",
    "#     saco = {}\n",
    "#     for chave in template:\n",
    "#         saco[chave] = 0\n",
    "#     return saco"
   ]
  },
  {
   "cell_type": "code",
   "execution_count": 345,
   "metadata": {},
   "outputs": [],
   "source": [
    "def calcula_similaridade_doc(doc, saco_alvo_template):\n",
    "    \"\"\"\n",
    "    Calcula a similaridade do saco de um Doc com outro saco previamente gerado.\n",
    "    \n",
    "    :param doc spacy.tokens.Doc: Doc a ser analisado.\n",
    "    :param saco_alvo_template dict: saco a ser comparado.\n",
    "    \n",
    "    :returns: similaridade dos sacos gerados\n",
    "    \"\"\"\n",
    "    \n",
    "    saco_alvo = saco_alvo_template.copy()\n",
    "    saco_doc = {}\n",
    "    \n",
    "    atualiza_chaves(saco_doc, saco_alvo.keys())\n",
    "    monta_saco_palavras(doc, saco_doc)\n",
    "    atualiza_chaves(saco_alvo, saco_doc.keys())\n",
    "    \n",
    "    similaridade = similaridade_cosseno(saco_alvo, saco_doc)\n",
    "    \n",
    "    return similaridade\n",
    "\n",
    "def calcula_similaridade_entre_docs(doc_a, doc_b):\n",
    "    saco_a = monta_saco_palavras(doc_a)\n",
    "    similaridade = calcula_similaridade_doc(doc_b, saco_a)\n",
    "    \n",
    "    return similaridade"
   ]
  },
  {
   "cell_type": "code",
   "execution_count": 350,
   "metadata": {},
   "outputs": [],
   "source": [
    "info_licitacoes = []\n",
    "for licitacao_filename in os.listdir(DIRETORIO_JSON):\n",
    "    if path.splitext(licitacao_filename)[1] != '.json':\n",
    "        continue\n",
    "    \n",
    "    print(licitacao_filename, end = ': ')\n",
    "    info_licitacao = {}\n",
    "    \n",
    "    with open(path.join(DIRETORIO_JSON, licitacao_filename), 'r') as licitacao_arquivo:\n",
    "        licitacao = json.load(licitacao_arquivo)\n",
    "\n",
    "    info_licitacao['identificador'] = licitacao['identificador']\n",
    "    \n",
    "    especificacao_doc = None\n",
    "    saco_especificacao = None\n",
    "    if 'especificacao' in licitacao:\n",
    "        especificacao_doc = nlp(licitacao['especificacao'])\n",
    "        saco_especificacao = monta_saco_palavras(especificacao_doc)\n",
    "    else:\n",
    "        info_licitacao['resultado'] = 'sem especificacao'\n",
    "        print('sem especificacao')\n",
    "        info_licitacoes.append(info_licitacao)\n",
    "        continue\n",
    "    \n",
    "    publicacoes_doc = None\n",
    "    if 'publicacoes' in licitacao:\n",
    "        publicacoes_doc = []\n",
    "        print('com', str(len(licitacao['publicacoes'])), 'publicacoes.')\n",
    "        for publicacao in licitacao['publicacoes']:\n",
    "            publicacao_doc = nlp(publicacao['conteudo'])\n",
    "            \n",
    "            info_licitacao['titulo_pub'] = publicacao['titulo']\n",
    "            info_licitacao['dia_pub'] = publicacao['dia']\n",
    "            info_licitacao['mes_pub'] = publicacao['mes']\n",
    "            info_licitacao['ano_pub'] = publicacao['ano']\n",
    "            \n",
    "            info_licitacao['similaridade_esp_pub'] = calcula_similaridade_doc(publicacao_doc, saco_especificacao)\n",
    "            info_licitacao['resultado'] = 'ok'\n",
    "            info_licitacoes.append(info_licitacao)\n",
    "    else:\n",
    "        info_licitacao['resultado'] = 'sem publicacao'\n",
    "        info_licitacoes.append(info_licitacao)\n",
    "        print('sem publicacoes')\n",
    "        continue\n"
   ]
  },
  {
   "cell_type": "code",
   "execution_count": 261,
   "metadata": {},
   "outputs": [],
   "source": [
    "df_orig = pd.DataFrame(info_licitacoes)"
   ]
  },
  {
   "cell_type": "code",
   "execution_count": 260,
   "metadata": {
    "scrolled": true
   },
   "outputs": [
    {
     "data": {
      "image/png": "[encoded data removed]",
      "text/plain": [
       "<Figure size 432x288 with 1 Axes>"
      ]
     },
     "metadata": {
      "needs_background": "light"
     },
     "output_type": "display_data"
    }
   ],
   "source": [
    "df = df_orig[df_orig['similaridade_esp_pub'] >= 0]\n",
    "#df_abertura = df[df['titulo_pub'] == 'Abertura']\n",
    "#df_homolog = df[df['titulo_pub'] == 'Homologação']\n",
    "\n",
    "titulos = df['titulo_pub'].unique()\n",
    "df_similaridades = pd.DataFrame(data = {'titulo': df['titulo_pub'], 'similaridade': df['similaridade_esp_pub']})\n",
    "\n",
    "for titulo in titulos:\n",
    "    if titulo == 'Abertura':# or titulo == 'Homologação':\n",
    "        plt.hist(df_similaridades[df_similaridades['titulo'] == titulo]['similaridade'],\n",
    "             bins = 25, range = (0.0, 0.5), histtype = 'bar', label = titulo)\n",
    "        continue\n",
    "    plt.hist(df_similaridades[df_similaridades['titulo'] == titulo]['similaridade'],\n",
    "             bins = 25, range = (0.0, 0.5), histtype = 'step', label = titulo)"
   ]
  },
  {
   "cell_type": "code",
   "execution_count": 251,
   "metadata": {},
   "outputs": [
    {
     "data": {
      "image/png": "[encoded data removed]",
      "text/plain": [
       "<Figure size 432x288 with 1 Axes>"
      ]
     },
     "metadata": {
      "needs_background": "light"
     },
     "output_type": "display_data"
    }
   ],
   "source": [
    "t = []\n",
    "m = []\n",
    "s = []\n",
    "for titulo in titulos:\n",
    "    df_temp = df_similaridades[df_similaridades['titulo'] == titulo]\n",
    "    t.append(titulo)\n",
    "    m.append(df_temp['similaridade'].mean())\n",
    "    s.append(df_temp['similaridade'].std())\n",
    "\n",
    "plt.bar(t, m, yerr = s)\n",
    "\n",
    "plt.xticks(rotation = 90)\n",
    "pass"
   ]
  },
  {
   "cell_type": "code",
   "execution_count": 351,
   "metadata": {
    "scrolled": true
   },
   "outputs": [],
   "source": [
    "df = df_orig\n",
    "ids = df[df['titulo_pub'] == 'Errata'].sample(10)['identificador'].values\n",
    "for i in ids:\n",
    "    with open(path.join(DIRETORIO_JSON, i + '.json'), 'r') as arquivo:\n",
    "        licitacao = json.load(arquivo)\n",
    "    print(licitacao['especificacao'])\n",
    "    print(licitacao['publicacoes'])\n",
    "    "
   ]
  },
  {
   "cell_type": "markdown",
   "metadata": {},
   "source": []
  },
  {
   "cell_type": "code",
   "execution_count": 367,
   "metadata": {
    "scrolled": false
   },
   "outputs": [
    {
     "name": "stdout",
     "output_type": "stream",
     "text": [
      "##############################\n",
      "4973\n",
      " NOTIFICAÇÃO DE ADJUDICAÇÃO E HOMOLOGAÇÃO - \r\n",
      "Notificamos aos interessados no processo licitatório epigrafado que o julgamento e a classificação havida foi devidamente Adjudicada e Homologada em 12/11/2018 pelo Sr. Prefeito Municipal a empresa: VITIVER SISTEMAS DE SEGURANÇA ELETRÔNICA LTDA – ME, conforme abaixo:\r\n",
      "LOTE 01 – SERVIÇOS DE INSTALAÇÃO DE ALARME COM CÂMARA E MONITORAMENTO - AMPLA PARTICIPAÇÃO\r\n",
      "Item\tQtd\tUnd\tEspecificações Mínimas\tP. Unit R$\tP. Total R$\r\n",
      "01\t865\tPeça\tServiço de instalação de câmeras com Infravermelho CFTV 2 megapixels (conforme memorial descritivo anexo I do Edital n. 355/2018). \t90,00\t77.850,00\r\n",
      "02\t190\tPeça\tServiço de instalação de fonte de alimentação para câmera 12 V 10 A (conforme memorial descritivo anexo I do Edital n. 355/2018). \t60,00\t11.400,00\r\n",
      "03\t190\tPeça\tServiço de instalação de gravador FULL HD - 08 Canais com saída de alarme para alertas e análise de imagens (conforme memorial descritivo anexo I do Edital n. 355/2018).\t70,00\t13.300,00\r\n",
      "04\t190\tPeça\tServiço de instalação de H D 3.5 SATA  (conforme memorial descritivo anexo)\t80,00\t15.200,00\r\n",
      "05\t190\tPeça\tServiço de instalação de filtro de linha 5 tomadas (conforme memorial descritivo anexo I do Edital n. 355/2018).\t63,33\t12.033,33\r\n",
      "06\t190\tPeça\tServiço de instalação de rack de parede compatível para o DVR (conforme memorial descritivo anexo I do Edital n. 355/2018).\t80,00\t15.200,00\r\n",
      "07\t190\tPeça\tServiço de instalação de Central de Alarme Monitorada (conforme memorial descritivo anexo I do Edital n. 355/2018).\t86,00\t16.340,00\r\n",
      "08\t190\tPeça\tServiço de instalação de Bateria 12 v.  7 A  (conforme memorial descritivo anexo I do Edital n. 355/2018).\t59,67\t11.337,30\r\n",
      "09\t380\tPeça\tServiço de instalação de Sirene  (conforme memorial descritivo anexo)\t100,00\t38.000,00\r\n",
      "10\t865\tPeça\tServiço de instalação de Sensor Infra Vermelho (conforme memorial descritivo anexo I do Edital n. 355/2018).\t76,28\t65.982,20\r\n",
      "11\t190\tPeça\tServiço de instalação de Materiais de infraestrutura para implantação do sistema de câmeras e sensores (conforme memorial descritivo anexo I do Edital n. 355/2018).\t95,00\t18.050,00\r\n",
      "12\t190\tcj\tMão de obra de instalação, lançamento dos cabos e configurações do sistema (conforme memorial descritivo anexo I do Edital n. 355/2018).\t75,00\t14.250,00\r\n",
      "13\t865\tM.O.\tServiço de instalação e programação do sistema de alarme (conforme memorial descritivo anexo I do Edital n. 355/2018).\t17,56\t15.189,40\r\n",
      "14\t190\tM.O.\tServiço de instalação, configuração e programação para visualização remoto (conforme memorial descritivo anexo I do Edital n. 355/2018).\t72,84\t13.839,60\r\n",
      "Para cálculo do valor total (R$) dos itens 15 e 16 deverá ser considerado o prazo de contratação de 24 meses (190 pontos /mês x 24 meses)\r\n",
      "15\t190\tPontos/mês\tServiço de monitoramento (incluindo manutenções preventivas e corretivas conforme memorial descritivo anexo I do Edital n. 355/2018).\t12.000,71\t288.016,80\r\n",
      "16\t190\tPontos/mês\tServiço de locação dos equipamentos (incluindo manutenções preventivas e corretivas conforme memorial descritivo anexo I do Edital n. 355/2018).\t32.000,00\t768.000,00\r\n",
      "VALOR TOTAL DO LOTE 01 – R$\t1.393.988,63\r\n",
      "\n",
      "--------------------------------\n",
      " NOTIFICAÇÃO DE PUBLICAÇÃO DA RETIFICAÇÃO DE ADJUDICAÇÃO E HOMOLOGAÇÃO - Notificamos aos interessados no processo licitatório epigrafado que o julgamento e a classificação havida foram devidamente Adjudicada e Homologada, sendo retificada em 25/08/2020 pelo Sr. Prefeito Municipal a empresa: VITIVER SISTEMAS DE SEGURANÇA ELETRÔNICA LTDA – ME, conforme abaixo:\r\n",
      "LOTE 01 – SERVIÇOS DE INSTALAÇÃO DE ALARME COM CÂMARA E MONITORAMENTO - AMPLA PARTICIPAÇÃO\r\n",
      "Item\tQtd\tUnd\tEspecificações Mínimas\tP. Unit R$\tP. Total R$\r\n",
      "01\t865\tPeça\tServiço de instalação de câmeras com Infravermelho CFTV 2 megapixels (conforme memorial descritivo anexo I do Edital n. 355/2018). \t90,00\t77.850,00\r\n",
      "02\t190\tPeça\tServiço de instalação de fonte de alimentação para câmera 12 V 10 A (conforme memorial descritivo anexo I do Edital n. 355/2018). \t60,00\t11.400,00\r\n",
      "03\t190\tPeça\tServiço de instalação de gravador FULL HD - 08 Canais com saída de alarme para alertas e análise de imagens (conforme memorial descritivo anexo I do Edital n. 355/2018).\t70,00\t13.300,00\r\n",
      "04\t190\tPeça\tServiço de instalação de H D 3.5 SATA  (conforme memorial descritivo anexo)\t80,00\t15.200,00\r\n",
      "05\t190\tPeça\tServiço de instalação de filtro de linha 5 tomadas (conforme memorial descritivo anexo I do Edital n. 355/2018).\t63,33\t12.032,70\r\n",
      "06\t190\tPeça\tServiço de instalação de rack de parede compatível para o DVR (conforme memorial descritivo anexo I do Edital n. 355/2018).\t80,00\t15.200,00\r\n",
      "07\t190\tPeça\tServiço de instalação de Central de Alarme Monitorada (conforme memorial descritivo anexo I do Edital n. 355/2018).\t86,00\t16.340,00\r\n",
      "08\t190\tPeça\tServiço de instalação de Bateria 12 v.  7 A  (conforme memorial descritivo anexo I do Edital n. 355/2018).\t59,67\t11.337,30\r\n",
      "09\t380\tPeça\tServiço de instalação de Sirene  (conforme memorial descritivo anexo)\t100,00\t38.000,00\r\n",
      "10\t865\tPeça\tServiço de instalação de Sensor Infra Vermelho (conforme memorial descritivo anexo I do Edital n. 355/2018).\t76,28\t65.982,20\r\n",
      "11\t190\tPeça\tServiço de instalação de Materiais de infraestrutura para implantação do sistema de câmeras e sensores (conforme memorial descritivo anexo I do Edital n. 355/2018).\t95,00\t18.050,00\r\n",
      "12\t190\tcj\tMão de obra de instalação, lançamento dos cabos e configurações do sistema (conforme memorial descritivo anexo I do Edital n. 355/2018).\t75,00\t14.250,00\r\n",
      "13\t865\tM.O.\tServiço de instalação e programação do sistema de alarme (conforme memorial descritivo anexo I do Edital n. 355/2018).\t17,57\t15.198,05\r\n",
      "14\t190\tM.O.\tServiço de instalação, configuração e programação para visualização remoto (conforme memorial descritivo anexo I do Edital n. 355/2018).\t72,84\t13.839,60\r\n",
      "Para cálculo do valor total (R$) dos itens 15 e 16 deverá ser considerado o prazo de contratação de 24 meses (190 pontos /mês x 24 meses)\r\n",
      "15\t24\tPontos/mês\tServiço de monitoramento (incluindo manutenções preventivas e corretivas conforme memorial descritivo anexo I do Edital n. 355/2018).\t12.000,71\t288.017,04\r\n",
      "16\t24\tPontos/mês\tServiço de locação dos equipamentos (incluindo manutenções preventivas e corretivas conforme memorial descritivo anexo I do Edital n. 355/2018).\t32.000,00\t768.000,00\r\n",
      "VALOR TOTAL DO LOTE 01 – R$\t1.393.996,89\r\n",
      "\n",
      "===================================\n",
      "[[0.         0.         0.         0.         0.        ]\n",
      " [0.79605558 0.         0.         0.         0.        ]\n",
      " [0.99883991 0.79753453 0.         0.         0.        ]\n",
      " [0.99770393 0.79239793 0.9987042  0.         0.        ]\n",
      " [0.0686925  0.13066434 0.07008241 0.07370614 0.        ]]\n",
      "##############################\n",
      "5846\n",
      " NOTIFICAÇÃO DE ABERTURA DE LICITAÇÃO - Edital nº 539/2019 – Processo nº 145.619/2019 – Modalidade: Pregão Eletrônico nº 463/19 – Do Tipo Menor Preço por Item – AMPLA PARTICIPAÇÃO - OBJETIVANDO A AQUISIÇÃO DA QUANTIDADE ANUAL DE: 220.000 LITROS DE GASOLINA COMUM, 300.000 LITROS DE ETANOL HIDRATADO, 900.000 LITROS DE DIESEL CLASSIFICAÇÃO BS 500 E 300.000 LITROS DE DIESEL BS-10, PARA O CORPO DE BOMBEIROS, SECRETARIAS MUNICIPAIS E GABINETE, CONFORME ESPECIFICAÇÕES CONSTANTES NO ANEXO III DO EDITAL. Interessada: Secretaria Municipal de Obras. Data do Recebimento das propostas: até às 9h do dia 21/01/20. Abertura da Sessão: 9h do dia 21/01/20. Informações e edital na Secretaria da Administração/Divisão de Licitações, sito na Praça das Cerejeiras, 1-59, Vila Noemy – 2º andar, sala 10 - CEP. 17.014-500 – Bauru/SP, no horário das 08h às 12h e das 13h às 17h e fones (14) 3235-1077 ou (14) 3235-1062 ou através de download gratuito no site www.bauru.sp.gov.br, ou através do site www.bec.sp.gov.br, Oferta de Compra 820900801002020OC00005 onde se realizará a sessão de pregão eletrônico, com os licitantes devidamente credenciados. \n",
      "--------------------------------\n",
      " ERRATA NA PUBLICAÇÃO DO DIÁRIO OFICIAL DIA 07/01/2020. \r\n",
      "NOTIFICAÇÃO DE ABERTURA DE LICITAÇÃO - Edital nº 539/2019 – Processo nº 145.619/2019 – Modalidade: Pregão Eletrônico nº 463/19...\r\n",
      "ONDE SE LÊ:\r\n",
      "Oferta de Compra 820900801002020OC00005 onde se realizará a sessão de pregão eletrônico, com os licitantes devidamente credenciados.\r\n",
      "LEIA - SE:\r\n",
      "Oferta de Compra 820900801002020OC00008 onde se realizará a sessão de pregão eletrônico, com os licitantes devidamente credenciados. \r\n",
      "\n",
      "===================================\n",
      "[[0.         0.         0.        ]\n",
      " [0.22273574 0.         0.        ]\n",
      " [0.15818241 0.39523634 0.        ]]\n"
     ]
    },
    {
     "name": "stdout",
     "output_type": "stream",
     "text": [
      "##############################\n",
      "7182\n",
      " NOTIFICAÇÃO DE ABERTURA - ÓRGÃO: PREFEITURA MUNICIPAL DE BAURU - SECRETARIA MUNICIPAL DE SAÚDE\r\n",
      "Processo: 147.4702021 – Modalidade: Pregão Eletrônico SMS n° 26/2022 – EXCLUSIVA PARA PARTICIPAÇÃO DE ME’S EPP’S - por meio da INTERNET – Tipo Menor Preço por Item – Objeto: aquisição de atomizador/nebulizador, lanternas, carro de transporte manual, big bags, tela mosquiteiro, caixa plástica, frasco conta gota, galão térmico, focinheiras e bolsa em lona para ferramentas para o município. A Data do Recebimento das Propostas será até dia 11/05/2022 às 09h - A abertura da Sessão dar-se-á no dia 11/05/2022 às 09h – Pregoeira: Mari Yasuoka. O Edital completo e informações poderão ser obtidos na Divisão de Compras e Licitações, Rua Gérson França, 7-49, 1º andar, Centro, CEP: 17015-200 – Bauru/SP, fone (14) 3104-1463/1465, ou pelo site www.bauru.sp.gov.br ou www.bec.sp.gov.br, OC 820900801002022OC00189 e 820900801002022OC00190 , onde se realizará a sessão de pregão eletrônico, com os licitantes devidamente credenciados. \r\n",
      "Divisão de Compras, 27/04/2022 – compras_saude@bauru.sp.gov.br\r\n",
      "Mariana Mendes Vilela Avallone – Diretora da Divisão de Compras e Licitações – S.M.S.\r\n",
      "\n",
      "--------------------------------\n",
      " NOTIFICAÇÃO DE ADJUDICAÇÃO / HOMOLOGAÇÃO - ÓRGÃO: PREFEITURA MUNICIPAL DE BAURU - SECRETARIA MUNICIPAL DE SAÚDE\r\n",
      "Processo: 147.470/2021 – Modalidade: Pregão Eletrônico n° 26/2022 – EXCLUSIVA PARA PARTICIPAÇÃO DE ME’S EPP’S.– por meio da INTERNET – Tipo Menor Preço por Item – Objeto: aquisição de atomizador/nebulizador, lanternas, carro de transporte manual, big bags, tela mosquiteiro, caixa plástica, frasco conta gota, galão térmico, focinheiras e bolsa em lona para ferramentas para o município. Aberto no dia: 11/05/2022 às 9h. Notificamos aos interessados no Processo licitatório epigrafado, que o julgamento e a classificação havidos, foram adjudicados pela pregoeira em 20/05/2022 e devidamente homologado pela Sra. Secretária Municipal de Saúde em 20/05/2022, à empresa abaixo:\r\n",
      "COMERCIAL AGROPECUÁRIA SCARPARO LTDA EPP\r\n",
      "Item 06 – Focinheira de Contencao para Caes; Em Plastico Resistente,que Permita Conforto e Contencao Ao Mesmo Tempo, para Caes de Grande Porte. MARCA/MODELO: TATY COLEIRAS - à R$ 6,76 unitário, total de R$ 202,80. \r\n",
      "Item 07 – Focinheira de Contencao para Caes; Em Plastico Resistente,que Permita Conforto e Contencao Ao Mesmo Tempo, para Caes de Médio Porte. MARCA/MODELO: TATY COLEIRAS - à R$ 5,86 unitário, total de R$ 175,80. \r\n",
      "Item 08 – Focinheira de Contencao para Caes; Em Plastico Resistente,que Permita Conforto e Contencao Ao Mesmo Tempo, para Caes de Pequeno Porte. MARCA/MODELO: TATY COLEIRAS - à R$ 4,60 unitário, total de R$ 138,00. \r\n",
      "Item 11 – Carro de transporte manual, de polietileno (caçamba); tipo: carriola; cuba em modelo \" baleia\". Medindo no mínimo: 600x1500x80mm. Capacidade para no mínimo 200 litros. MARCA/MODELO: CADIOLI - à R$ 727,50 unitário, total de R$ 1.455,00. \r\n",
      "Item 12 – Tela Mosquiteiro Em nylon, monofilada, na cor verde, com abertura da malha de 0,7mm, Tamanho 1,50cm x 50m. - Rolo.. MARCA/MODELO: TUTTI - à R$ 200,00 unitário, total de R$ 6.000,00. \r\n",
      "Item 14 – Galão Térmico; Com Capacidade de 6 Litros; Corpo de Polipropileno,com Alca Na Parte Superior do Corpo; Revestimento Interno de Espuma de Poliuretano; Polipropileno; Tampa de Polipropileno; Com Torneira Com Tampa Rosqueavel; Com Pes; Na Cor Azul MARCA/MODELO: INVICTA - à R$ 141,63 unitário, total de R$ 4.248,90. Sendo o valor total da empresa de R$ 12.220,50.\r\n",
      "JOSÉ DORIVALDO LOPES DOS SANTOS ME\r\n",
      "Item 01 – Lanterna de Led, recarregável, com luz de alta intensidade, luminosidade  mínima 200.000 lumens.MARCA/MODELO: LANTERNA TATICA X-900 - à R$ 55,32  unitário, total de R$ 8.298,00. Sendo o valor total da empresa de R$ 8.298,00.\r\n",
      "LASER TECH COMERCIAL EIRELI EPP\r\n",
      "Item 13 – Caixa plástica incolor de 56 litros, confeccionada em plastico rigido, com tampa e trava, com as seguintes dimensoes aproximadas: (36,5 x 40,3 x 55,5 - a x l x p).MARCA/MODELO: SÃO BERNARDO OR23 - à R$ 85,80  unitário, total de R$ 4.290,00. Sendo o valor total da empresa de R$ 4.290,00.\r\n",
      "LA STORE COMÉRCIO E SERVIÇOS LTDA\r\n",
      "Item 02 – Bolsa em Lona para ferramentas confeccionada em lona reforçada com abertura total, reforço metálico na parte superior, alça fixa e alça auxiliar em nylon, possuir 4 pés/apoios plásticos, zíper extra reforçado divisões/bolsos na parte interna e na parte externa. Característica técnicas: Comprimento da bolsa: 470,0 mm, Largura da bolsa: 300,0 mm, Altura da bolsa 350,0 mm. Capacidade máxima de caga: 15 kg.MARCA/MODELO: CARBOGRAFITI - à R$ 175,00  unitário, total de R$ 2.100. Sendo o valor total da empresa de R$ 2.100,00.\r\n",
      "MERCANTIL JOHANNSEN COMERCIO DE MÁQUINAS E MOTORES LTDA.\r\n",
      "Item 09 – Atomizador/Nebulizador motorizado costa.Capacidade do tanque químico: 6 litros. capacidade do tanque de combustível: 2 litros;Motor de 2 tempos; Cilindrada: 64,7 cc;Potência máxima: 4,6 hp;Vazão aproximada: entre 20 e 250ml/min; Alcance horizontal: 18 m; Alcance vertical: 12 m;Peso Vazio 11,5 kg;.MARCA/MODELO: GUARANY - à R$ 3.650,00  unitário, total de R$ 18.250,00. Sendo o valor total da empresa de R$ 18.250,00.\r\n",
      "ITEM DESERTO\r\n",
      "Item 10 - Lanterna; Corpo em Abs Resistente; Lente de Policarbonato Otico de Alto Impacto; Refletor de Policarbonato de Alto Impacto; Anel Da Lente de Policarbonato de Alto Impacto; No Formato Retangular, Com Dimensoes Aproximadas de 20 x 12 x 14 Cm (comprimento x Largura x Altura); Cabeca Com Diametro de Aproximadamente 17 Cm; Vermelha e Preta; Com Duas Alcas,sendo Uma Em Naylon P/transporte Eoutra Na Propria Caixa; Com Bivolt, Potencia de Aprox 1,25w, Fluxo Luminoso de Aprox 104 (luz Baixa), 200(luz Alta); Comutador Liga/desliga; Com Carregador 110/220v e Adaptador 12v para Carro; Com Lampada de 25 Leds;\r\n",
      "ITENS FRACASSADOS\r\n",
      "ITEM 03 - Lanternas com corpo de alumínio aeronáutico, resistente; com LED ultravioleta, zoom/foco sistema bifocal, potência mínima de 900.000 W e 2.800.000 Lumens, bateria recarregável.\r\n",
      "ITEM 04 - Pinção em alumínio anodizado para mamíferos. \r\n",
      "ITEM 05 - Contentor flexivel reutilizavel \"sacola tipo big-bag\"\r\n",
      "Bauru – Divisão de Compras e Licitações, 23/05/2022 – compras_saude@bauru.sp.gov.br\r\n",
      "Mariana Mendes Vilela Avallone – Diretora da Divisão Compras e Licitações - S.M.S.\r\n",
      "\n",
      "===================================\n",
      "[[0.         0.        ]\n",
      " [0.33180783 0.        ]]\n",
      "##############################\n",
      "6876\n",
      " NOTIFICAÇÃO DE ABERTURA DE LICITAÇÃO - \r\n",
      "Edital n.º 385/2021 – Processo n.º 82.040/2020 – Modalidade: Pregão Eletrônico nº 339/2021 – do tipo MENOR PREÇO POR LOTE – AMPLA PARTICIPAÇÃO - Objeto: CONTRATAÇÃO DE EMPRESA ESPECIALIZADA NA PRESTAÇÃO DE SERVIÇOS GRÁFICOS, COM FORNECIMENTO DE MATERIAL DE IMPRESSÃO, EQUIPAMENTOS E MÃO DE OBRA, PARA A CONFECÇÃO DA QUANTIDADE ESTIMADA ANUAL DE 80.000 (OITENTA MIL) UNIDADES DE CADERNOS DE PROVAS E 30.000 (TRINTA MIL) UNIDADES DE FORMULÁRIOS ÓPTICOS (CARTÃO RESPOSTA) – ATRAVÉS DO SISTEMA DE REGISTRO DE PREÇOS E CONFORME A ESPECIFICAÇÃO COMPLETA CONSTANTE NO TERMO DE REFERÊNCIA, ANEXO I DESTE EDITAL. Interessada: Secretaria Municipal de Administração. Data do Recebimento das propostas: até às 14h do dia 25/10/2021. Abertura da Sessão: 25/10/2021 às 14h. Informações e edital na Secretaria da Administração/Divisão de Licitações, sito na Praça das Cerejeiras, 1-59, Vila Noemy – 2º andar, sala 10 - CEP. 17.014-500 – Bauru/SP, no horário das 08h às 12h e das 13h às 17h e fones (14) 3235-1062 ou (14) 3235-1077 ou através de download gratuito no site www.bauru.sp.gov.br, ou através do site www.bec.sp.gov.br - Oferta de Compra: 820900801002021OC00435, onde se realizará a sessão de pregão eletrônico, com os licitantes devidamente credenciados. \n",
      "--------------------------------\n",
      " NOTIFICAÇÃO DE HOMOLOGAÇÃO DE LICITAÇÃO - \r\n",
      "Notificamos aos interessados no processo licitatório epigrafado que o julgamento e a classificação havida foi devidamente Homologada pelo Sr. Secretário Municipal em 03/11/2021 conforme abaixo.\r\n",
      "\r\n",
      "LOTE 01-CONTRATAÇÃO DE EMPRESA ESPECIALIZADA NA PRESTAÇÃO DE SERVIÇOS GRÁFICOS, COM FORNECIMENTO DE MATERIAL DE IMPRESSÃO, EQUIPAMENTOS E MÃO DE OBRA, PARA A CONFECÇÃO DA QUANTIDADE ESTIMADA ANUAL DE 80.000 (OITENTA MIL) UNIDADES DE CADERNOS DE PROVAS E 30.000 (TRINTA MIL) UNIDADES DE FORMULÁRIOS ÓPTICOS (CARTÃO RESPOSTA) – ATRAVÉS DO SISTEMA DE REGISTRO DE PREÇOS E CONFORME A ESPECIFICAÇÃO COMPLETA CONSTANTE NO TERMO DE REFERÊNCIA, ANEXO I DESTE EDITAL.\r\n",
      "EMPRESA: ALAN JAMES DOS SANTOS  - CNPJ: 21.662.089/0001-21\r\n",
      "Item\tUn.\tQuant. Esti-mada Anual\tDescrição\tValor un. R$\tValor total R$\r\n",
      "1\tUn.\t30.000\tFormulário óptico “Cartão de Resposta” com dados variáveis, formato 210 x 148 mm, 2 x 0 cores, papel off set 90 g/m2. \t\r\n",
      "R$ 0,17\t\r\n",
      "R$ 5.100,00\r\n",
      "2\tUn.\t20.000\tCadernos de “Provas para Concurso” – 8 páginas, formato A4 (210 x 297 mm.), papel alcalino 75 g/m2k, impressão digital (tonner P/B), acabamento: grampeado e intercalado automaticamente, arte final e demais exigências constantes no Edital.\t\r\n",
      "R$ 0,94\t\r\n",
      "R$ 18.800,00\r\n",
      "3\tUn.\t20.000\tCadernos de “Provas para Concurso” – 10 páginas, formato A4 (210 x 297 mm.), papel alcalino 75 g/m2k, impressão digital (tonner P/B), acabamento: grampeado e intercalado automaticamente, arte final e demais exigências constantes no Edital.\t\r\n",
      "R$ 1,10\t\r\n",
      "R$ 22.000,00\r\n",
      "4\tUn.\t20.000\tCadernos de “Provas para Concurso” – 12 páginas, formato A4 (210 x 297 mm.), papel alcalino 75 g/m2k, impressão digital (tonner P/B), acabamento: grampeado e intercalado automaticamente, arte final e demais exigências constantes no Edital. \t\r\n",
      "R$ 1,21\t\r\n",
      "R$ 24.200,00\r\n",
      "5\tUn.\t20.000\tCadernos de “Provas para Concurso” – 15 páginas, formato A4 (210 x 297 mm.), papel alcalino 75 g/m2k, impressão digital (tonner P/B), acabamento: grampeado e intercalado automaticamente, arte final e demais exigências constantes no Edital.\t\r\n",
      "R$ 1,89\t\r\n",
      "R$ 37.800,00\r\n",
      "VALOR TOTAL DO LOTE\tR$ 107.900,00\r\n",
      "\n",
      "===================================\n",
      "[[0.         0.        ]\n",
      " [0.18992138 0.        ]]\n"
     ]
    },
    {
     "name": "stdout",
     "output_type": "stream",
     "text": [
      "##############################\n",
      "5948\n",
      " NOTIFICAÇÃO DE ABERTURA DE LICITAÇÃO - \n",
      "Edital nº 070/20 – Processo nº 173.840/19 – Modalidade: Pregão Eletrônico nº 011/20 – Do Tipo Menor Preço por Lote – DIFERENCIADA NO MODO COTA RESERVADA PARA ME E EPP- Objeto: AQUISIÇÃO DE MICROCOMPUTADORES E NOTEBOOKS CONFORME ESPECIFICAÇÕES DO ANEXO I e III DO EDITAL. – Interessada: Secretaria Municipal do Bem Estar Social. Data do Recebimento das propostas: até às 9h do dia 02/04/2020. Abertura da Sessão: dia 02/04/2020 às 9h. Informações e edital na Secretaria da Administração/Divisão de Licitações, sito na Praça das Cerejeiras, 1-59, Vila Noemy – 2º andar, sala 10 - CEP. 17.014-900 – Bauru/SP, no horário das 08h às 12h e das 13h às 17h e telefone (14) 3235-1337 ou através de download gratuito no site www.bauru.sp.gov.br, ou através do site www.bec.sp.gov.br, Oferta de Compra 820900801002020OC00092 onde se realizará a sessão de pregão eletrônico, com os licitantes devidamente credenciados. \n",
      "--------------------------------\n",
      " NOTIFICAÇÃO DE REPUBLICAÇÃO DA ABERTURA DA LICITAÇÃO - \n",
      "Edital nº 070/20 – Processo nº 173.840/19 – Modalidade: Pregão Eletrônico nº 011/20 – Do Tipo Menor Preço por Lote – DIFERENCIADA NO MODO COTA RESERVADA PARA ME E EPP- Objeto: AQUISIÇÃO DE MICROCOMPUTADORES E NOTEBOOKS CONFORME ESPECIFICAÇÕES DO ANEXO I e III DO EDITAL. – Interessada: Secretaria Municipal do Bem Estar Social. Informamos aos interessados que o processo em epígrafe terá nova data de abertura do pregão eletrônico para o dia 09/04/2020, em razão da alteração da especificação do objeto. Data do Recebimento das propostas: até às 09h do dia 09/04/2020. Abertura da Sessão: 09h do dia 09/04/2020.  Informações e edital na Secretaria da Administração/Divisão de Licitações, sito na Praça das Cerejeiras, 1-59, Vila Noemy – 2º andar, sala 10 - CEP. 17.014-900 – Bauru/SP, no horário das 08h às 12h e das 13h às 17h e fones (14) 3235-1337 ou através de download gratuito no site www.bauru.sp.gov.br, ou através do site www.bec.sp.gov.br, Oferta de Compra 820900801002020OC00092 onde se realizará a sessão de pregão eletrônico, com os licitantes devidamente credenciados. \n",
      "===================================\n",
      "[[0.         0.         0.         0.        ]\n",
      " [0.09781497 0.         0.         0.        ]\n",
      " [0.11015651 0.53267905 0.         0.        ]\n",
      " [0.11676385 0.54783576 0.87652306 0.        ]]\n",
      "##############################\n",
      "7042\n",
      " PUBLICADO NO DIÁRIO DE 27/11/2021: NOTIFICAÇÃO DE ABERTURA DE LICITAÇÃO - PREFEITURA MUNICIPAL DE BAURU - Edital n.º 536/2021 - Processo nº 88.570/2021 – Modalidade: Pregão Eletrônico nº 442/2021 – Tipo: Menor Preço por Lote com cota reservada. Objeto: AQUISIÇÃO DE EQUIPAMENTOS DE INFORMÁTICA, ATRAVÉS DE CONTRATO devidamente descritos no Anexo I do edital.– Interessada: Secretaria Municipal da Educação. RECEBIMENTO DA PROPOSTA ELETRÔNICA: Até às 9h do dia 10 de dezembro de 2.021. ABERTURA DA SESSÃO PÚBLICA: dia 10 de dezembro de 2.021, às 09h. Informações na Div. de Compras e Licitações, Rua Raposo Tavares 8-38, Vl. Sto. Antonio, Bauru/SP, no horário das 08h às 12h e das 13h às 17h e fones (14) 3214-3307/3214-4744. O Edital está disponível através de download gratuito no site www.bauru.sp.gov.br, e poderá ser acessado também através do site www.bec.sp.gov.br, OC: 820900801002021OC00553, onde se realizará a sessão de pregão eletrônico. Bauru, 26/11/2021 – Davison de Lima Gimenes – Diretor da Divisão de Compras e Licitações–SME.\n",
      "--------------------------------\n",
      " PUBLICADO NO DIÁRIO DE 14/12/2021: NOTIFICAÇÃO DE ABERTURA DE LICITAÇÃO - PREFEITURA MUNICIPAL DE BAURU - Edital n.º 536/2021 - Processo nº 88.570/2021 – Modalidade: Pregão Eletrônico nº 442/2021 – Tipo: Menor Preço por Lote com cota reservada. Objeto: AQUISIÇÃO DE EQUIPAMENTOS DE INFORMÁTICA, ATRAVÉS DE CONTRATO devidamente descritos no Anexo I do edital.– Interessada: Secretaria Municipal da Educação e Secretaria do Meio Ambiente RECEBIMENTO DA PROPOSTA ELETRÔNICA: Até às 9h do dia 28de dezembro de 2.021. ABERTURA DA SESSÃO PÚBLICA: dia 28 de dezembro de 2.021, às 09h. Informações na Div. de Compras e Licitações, Rua Raposo Tavares 8-38, Vl. Sto. Antonio, Bauru/SP, no horário das 08h às 12h e das 13h às 17h e fones (14) 3214-3307/3214-4744. O Edital está disponível através de download gratuito no site www.bauru.sp.gov.br, e poderá ser acessado também através do site www.bec.sp.gov.br, OC: 820900801002021OC00553, onde se realizará a sessão de pregão eletrônico. Bauru, 13/12/2021 – Davison de Lima Gimenes – Diretor da Divisão de Compras e Licitações–SME.\n",
      "===================================\n",
      "[[0.         0.         0.         0.         0.        ]\n",
      " [0.25000124 0.         0.         0.         0.        ]\n",
      " [0.54310412 0.07313344 0.         0.         0.        ]\n",
      " [0.51382    0.07192094 0.95747089 0.         0.        ]\n",
      " [0.62314636 0.08462209 0.69262524 0.68773031 0.        ]]\n",
      "##############################\n",
      "4281\n",
      " NOTIFICAÇÃO DE HOMOLOGAÇÃO -  Notificamos aos interessados no processo licitatório epigrafado que o julgamento e a classificação havido foi devidamente homologado pelo Prefeito Municipal em 10/01/2018 as empresas:\n",
      "1º Classificada: WALP CONSTRUÇÕES E COMÉRCIO LTDA, no valor global de R$ 345.835,69;\n",
      "2º Classificada: FORTPAV PAVIMENTAÇÃO E SERVIÇOS LTDA, no valor global de R$ 346.202,24.\n",
      "\n",
      "--------------------------------\n",
      " NOTIFICAÇÃO DE ADJUDICAÇÃO - \n",
      "Notificamos aos interessados no processo licitatório epigrafado que o julgamento e a classificação havidos foram devidamente Homologados em 10/01/2018 e seu objeto Adjudicado em 26/01/2018, ambos pelo Prefeito Municipal a empresa 1º Classificada: WALP CONSTRUÇÕES E COMÉRCIO LTDA, no valor global de R$ 345.835,69 (trezentos e quarenta e cinco mil, oitocentos e trinta e cinco reais e sessenta e nove centavos).\n",
      "===================================\n",
      "[[0.         0.         0.         0.         0.         0.\n",
      "  0.        ]\n",
      " [0.66502665 0.         0.         0.         0.         0.\n",
      "  0.        ]\n",
      " [0.35098855 0.47294677 0.         0.         0.         0.\n",
      "  0.        ]\n",
      " [0.29856201 0.50445366 0.33233985 0.         0.         0.\n",
      "  0.        ]\n",
      " [0.2348557  0.26967994 0.4357102  0.19198579 0.         0.\n",
      "  0.        ]\n",
      " [0.12734291 0.29593202 0.31499969 0.22038784 0.20287056 0.\n",
      "  0.        ]\n",
      " [0.18212505 0.2489648  0.3191117  0.43367578 0.23739073 0.20658356\n",
      "  0.        ]]\n",
      "##############################\n",
      "4593\n",
      " NOTIFICAÇÃO DE ADJUDICAÇÃO E HOMOLOGAÇÃO - \n",
      "Notificamos aos interessados no processo licitatório epigrafado que o julgamento e a classificação havida foi devidamente Adjudicada pelo pregoeiro em 23/03/18 e Homologada pelo Prefeito Municipal em 04/04/18 conforme abaixo:\n",
      "LOTE 01 – CALÇADO DE SEGURANÇA, TIPO SAPATO, COR PRETO – COTA RESERVADA.\n",
      "EMPRESA: DALSON COM. DE EQUIP. DE SEG. FERRAMENTAS EIRELI – ME.\n",
      "LOTE 02 – CALÇADO DE SEGURANÇA, TIPO SAPATO, COR PRETO – COTA PRINCIPAL.\n",
      "EMPRESA: DALSON COM. DE EQUIP. DE SEG. FERRAMENTAS EIRELI – ME.\n",
      "LOTE 03 – CALÇADO DE SEGURANÇA, TIPO BOTINA, COR PRETO, SOLADO ISOLANTE COM RESISTÊNCIA ELÉTRICA - TIPO COTURNO (SECRETARIA DE MEIO AMBIENTE) – COTA RESERVADA.\n",
      "EMPRESA: DATA EQUIPAMENTOS DE SEGURANÇA LTDA - ME\n",
      "LOTE 04 – CALÇADO DE SEGURANÇA, TIPO BOTINA, COR PRETO, SOLADO ISOLANTE COM RESISTÊNCIA ELÉTRICA - TIPO COTURNO (SECRETARIA DE MEIO AMBIENTE) – COTA PRINCIPAL.\n",
      "EMPRESA: DATA EQUIPAMENTOS DE SEGURANÇA LTDA - ME\n",
      "LOTE 05 – CALÇADOS DE SEGURANÇA - TIPO BOTINA - SOLADO RESISTENTE A ALTA TEMPERATURA – COTA RESERVADA. \n",
      "EMPRESA: ROBERTA MARTINS DA SILVA - ME\n",
      "LOTE 06 – CALÇADOS DE SEGURANÇA - TIPO BOTINA - SOLADO RESISTENTE A ALTA TEMPERATURA – COTA PRINCIPAL\n",
      "EMPRESA: ROBERTA MARTINS DA SILVA - ME\n",
      "\n",
      "--------------------------------\n",
      " ERRATA: NA PUBLICAÇÃO DO DIÁRIO OFICIAL DE 10/05/18.\n",
      "ATA DE REGISTRO DE PREÇOS Nº 202/2018 - PROCESSO Nº 44.809/2017 - CONTRATANTE: MUNICÍPIO DE BAURU – CONTRATADA: ROBERTA MARTINS DA SILVA – ME.\n",
      "ONDE SE LÊ: PRAZO: 01 ano –– MODALIDADE: PREGÃO ELETRÔNICO Nº 057/2017 – ASSINATURA: 16/04/2018 – VALIDADE: 15/04/2019.\n",
      "LEIA-SE: PRAZO: 01 ano –– MODALIDADE: PREGÃO PRESENCIAL Nº 057/2017 – ASSINATURA: 16/04/2018 – VALIDADE: 15/04/2019.\n",
      "\n",
      "===================================\n",
      "[[0.         0.         0.        ]\n",
      " [0.28068593 0.         0.        ]\n",
      " [0.27119423 0.22461286 0.        ]]\n"
     ]
    }
   ],
   "source": [
    "#df = df_orig.copy()\n",
    "#sample = df.sample(10)\n",
    "\n",
    "for licitacao_filename in sample['identificador']: #os.listdir(DIRETORIO_JSON):\n",
    "    #if path.splitext(licitacao_filename)[1] != '.json':\n",
    "    #    continue\n",
    "    \n",
    "    with open(path.join(DIRETORIO_JSON, licitacao_filename + '.json'), 'r') as licitacao_arquivo:\n",
    "        licitacao = json.load(licitacao_arquivo)\n",
    "\n",
    "    info_licitacao['identificador'] = licitacao['identificador']\n",
    "    \n",
    "    publicacoes_doc = None\n",
    "    if 'publicacoes' in licitacao:\n",
    "        publicacoes_doc = {}\n",
    "        for publicacao in licitacao['publicacoes']:\n",
    "            chave = publicacao['titulo'] + publicacao['ano'] + publicacao['mes'] + publicacao['dia']\n",
    "            publicacoes_doc[chave] = nlp(publicacao['conteudo'])\n",
    "        \n",
    "        if len(publicacoes_doc) > 1:\n",
    "            num_publicacoes = len(publicacoes_doc)\n",
    "            matriz_similaridades = np.zeros((num_publicacoes, num_publicacoes))\n",
    "            \n",
    "            l_temp = licitacao['publicacoes'][0]\n",
    "            similaridade_max = 0.0\n",
    "            chave_max_a = l_temp['titulo'] + l_temp['ano'] + l_temp['mes'] + l_temp['dia']\n",
    "            chave_max_b = l_temp['titulo'] + l_temp['ano'] + l_temp['mes'] + l_temp['dia']\n",
    "            similaridade_min = 1.0\n",
    "            chave_min_a = l_temp['titulo'] + l_temp['ano'] + l_temp['mes'] + l_temp['dia']\n",
    "            chave_min_b = l_temp['titulo'] + l_temp['ano'] + l_temp['mes'] + l_temp['dia']\n",
    "            \n",
    "            \n",
    "            for nA, publicacao_a in enumerate(publicacoes_doc):\n",
    "                saco_a_template = monta_saco_palavras(publicacoes_doc[publicacao_a])\n",
    "                \n",
    "                for nB, publicacao_b in enumerate(publicacoes_doc):\n",
    "                    if nA <= nB:\n",
    "                        continue\n",
    "                    sim = calcula_similaridade_doc(publicacoes_doc[publicacao_b], saco_a_template)\n",
    "                    \n",
    "                    if sim > similaridade_max:\n",
    "                        similaridade_max = sim\n",
    "                        chave_max_a = publicacao_a\n",
    "                        chave_max_b = publicacao_b\n",
    "                        \n",
    "                    if sim < similaridade_min:\n",
    "                        similaridade_min = sim\n",
    "                        chave_min_a = publicacao_a\n",
    "                        chave_min_b = publicacao_b\n",
    "                    \n",
    "                    matriz_similaridades[nA, nB] = sim\n",
    "                    \n",
    "            print('##############################')\n",
    "            print(licitacao_filename)\n",
    "            #print('max', similaridade_max, chave_max_a, chave_max_b)\n",
    "            print(publicacoes_doc[chave_max_a])\n",
    "            print('--------------------------------')\n",
    "            print(publicacoes_doc[chave_max_b])\n",
    "            #print('min', similaridade_min, chave_min_a, chave_min_b)\n",
    "            print('===================================')\n",
    "#             print(publicacoes_doc[chave_min_a])\n",
    "#             print('--------------------------------')\n",
    "#             print(publicacoes_doc[chave_min_b])\n",
    "            print(matriz_similaridades)\n",
    "    else:\n",
    "        pass\n"
   ]
  },
  {
   "cell_type": "code",
   "execution_count": null,
   "metadata": {},
   "outputs": [],
   "source": []
  },
  {
   "cell_type": "markdown",
   "metadata": {},
   "source": []
  },
  {
   "cell_type": "code",
   "execution_count": 192,
   "metadata": {},
   "outputs": [],
   "source": [
    "#plt.scatter(range(df_abertura['similaridade_esp_pub'].size), df_abertura['similaridade_esp_pub'])\n",
    "#plt.scatter(range(df_homolog['similaridade_esp_pub'].size), df_homolog['similaridade_esp_pub'])"
   ]
  },
  {
   "cell_type": "code",
   "execution_count": 193,
   "metadata": {
    "scrolled": true
   },
   "outputs": [
    {
     "data": {
      "text/plain": [
       "(array([14.,  6., 26., 23., 26., 32., 34., 41., 43., 39., 40., 32., 28.,\n",
       "        23., 12., 15.,  9.,  8., 12.,  5., 10.,  4.,  8.,  8.,  1.,  5.,\n",
       "         6.,  3.,  1.,  1.,  0.,  1.,  2.,  1.,  0.,  0.,  2.,  0.,  1.,\n",
       "         1.,  1.,  0.,  2.,  0.,  0.,  0.,  0.,  0.,  0.,  1.]),\n",
       " array([0.01778984, 0.02445634, 0.03112284, 0.03778934, 0.04445584,\n",
       "        0.05112234, 0.05778884, 0.06445534, 0.07112184, 0.07778835,\n",
       "        0.08445485, 0.09112135, 0.09778785, 0.10445435, 0.11112085,\n",
       "        0.11778735, 0.12445385, 0.13112035, 0.13778685, 0.14445335,\n",
       "        0.15111985, 0.15778635, 0.16445285, 0.17111935, 0.17778585,\n",
       "        0.18445236, 0.19111886, 0.19778536, 0.20445186, 0.21111836,\n",
       "        0.21778486, 0.22445136, 0.23111786, 0.23778436, 0.24445086,\n",
       "        0.25111736, 0.25778386, 0.26445036, 0.27111686, 0.27778336,\n",
       "        0.28444986, 0.29111636, 0.29778287, 0.30444937, 0.31111587,\n",
       "        0.31778237, 0.32444887, 0.33111537, 0.33778187, 0.34444837,\n",
       "        0.35111487]),\n",
       " <a list of 1 Patch objects>)"
      ]
     },
     "execution_count": 193,
     "metadata": {},
     "output_type": "execute_result"
    },
    {
     "data": {
      "image/png": "[encoded data removed]",
      "text/plain": [
       "<Figure size 432x288 with 1 Axes>"
      ]
     },
     "metadata": {
      "needs_background": "light"
     },
     "output_type": "display_data"
    }
   ],
   "source": [
    "#plt.hist(df_abertura['similaridade_esp_pub'], bins = 50, histtype = 'step', label = 'Abertura')\n",
    "#plt.hist(df_homolog['similaridade_esp_pub'], bins = 50, histtype = 'step', label = 'Homologação')"
   ]
  },
  {
   "cell_type": "code",
   "execution_count": 196,
   "metadata": {
    "scrolled": true
   },
   "outputs": [
    {
     "name": "stdout",
     "output_type": "stream",
     "text": [
      "['Ratificação' 'Abertura' 'Homologação' 'Prorrogação' 'Errata' 'Deserta'\n",
      " 'Suspensão' 'Adjudicação' 'Notificação de Habilitação' 'Fracassada'\n",
      " 'Notificação de Inabilitação' 'Notificação de Classificação'\n",
      " 'Notificação de Desclassificação' 'Reabertura']\n"
     ]
    },
    {
     "ename": "TypeError",
     "evalue": "hist() missing 1 required positional argument: 'x'",
     "output_type": "error",
     "traceback": [
      "\u001b[0;31m---------------------------------------------------------------------------\u001b[0m",
      "\u001b[0;31mTypeError\u001b[0m                                 Traceback (most recent call last)",
      "\u001b[0;32m<ipython-input-196-0c64383e96ad>\u001b[0m in \u001b[0;36m<module>\u001b[0;34m\u001b[0m\n\u001b[1;32m      3\u001b[0m \u001b[0mprint\u001b[0m\u001b[0;34m(\u001b[0m\u001b[0mtitulos_pub\u001b[0m\u001b[0;34m)\u001b[0m\u001b[0;34m\u001b[0m\u001b[0;34m\u001b[0m\u001b[0m\n\u001b[1;32m      4\u001b[0m \u001b[0;34m\u001b[0m\u001b[0m\n\u001b[0;32m----> 5\u001b[0;31m \u001b[0mplt\u001b[0m\u001b[0;34m.\u001b[0m\u001b[0mhist\u001b[0m\u001b[0;34m(\u001b[0m\u001b[0;34m)\u001b[0m\u001b[0;34m\u001b[0m\u001b[0;34m\u001b[0m\u001b[0m\n\u001b[0m\u001b[1;32m      6\u001b[0m \u001b[0;34m\u001b[0m\u001b[0m\n\u001b[1;32m      7\u001b[0m \u001b[0;32mfor\u001b[0m \u001b[0mtitulo\u001b[0m \u001b[0;32min\u001b[0m \u001b[0mtitulos_pub\u001b[0m\u001b[0;34m:\u001b[0m\u001b[0;34m\u001b[0m\u001b[0;34m\u001b[0m\u001b[0m\n",
      "\u001b[0;31mTypeError\u001b[0m: hist() missing 1 required positional argument: 'x'"
     ]
    }
   ],
   "source": [
    "titulos_pub = df['titulo_pub'].unique()\n",
    "\n",
    "print(titulos_pub)\n",
    "\n",
    "for titulo in titulos_pub:\n",
    "    plt.hist(df_abertura['similaridade_esp_pub'], bins = 50, histtype = 'step', label = titulo)\n"
   ]
  },
  {
   "cell_type": "code",
   "execution_count": 184,
   "metadata": {},
   "outputs": [
    {
     "data": {
      "text/plain": [
       "<BarContainer object of 14 artists>"
      ]
     },
     "execution_count": 184,
     "metadata": {},
     "output_type": "execute_result"
    },
    {
     "data": {
      "image/png": "[encoded data removed]",
      "text/plain": [
       "<Figure size 432x288 with 1 Axes>"
      ]
     },
     "metadata": {
      "needs_background": "light"
     },
     "output_type": "display_data"
    }
   ],
   "source": [
    "titulos_pub = df['titulo_pub'].unique()\n",
    "titulos = []\n",
    "nums = []\n",
    "\n",
    "for titulo in titulos_pub:\n",
    "    titulos.append(titulo)\n",
    "    nums.append(sum(df['titulo_pub'] == titulo))\n",
    "\n",
    "titulos = titulos\n",
    "nums = nums\n",
    "\n",
    "plt.xticks(rotation = 90)\n",
    "plt.bar(titulos, nums)"
   ]
  },
  {
   "cell_type": "code",
   "execution_count": 180,
   "metadata": {},
   "outputs": [
    {
     "data": {
      "text/plain": [
       "<BarContainer object of 6 artists>"
      ]
     },
     "execution_count": 180,
     "metadata": {},
     "output_type": "execute_result"
    },
    {
     "data": {
      "image/png": "[encoded data removed]",
      "text/plain": [
       "<Figure size 432x288 with 1 Axes>"
      ]
     },
     "metadata": {
      "needs_background": "light"
     },
     "output_type": "display_data"
    }
   ],
   "source": [
    "anos_pub = df['ano_pub'].unique()\n",
    "anos = []\n",
    "nums = []\n",
    "\n",
    "for ano in anos_pub:\n",
    "    anos.append(ano)\n",
    "    nums.append(sum(df['ano_pub'] == ano))\n",
    "\n",
    "anos = anos[1:]\n",
    "nums = nums[1:]\n",
    "    \n",
    "plt.xticks(rotation = 90)\n",
    "plt.bar(anos, nums)"
   ]
  },
  {
   "cell_type": "code",
   "execution_count": 55,
   "metadata": {
    "scrolled": true
   },
   "outputs": [
    {
     "name": "stdout",
     "output_type": "stream",
     "text": [
      "974 0.3934447376823168\n",
      "\n",
      "CONTRATAÇÃO DE SERVIÇOS TÉCNICOS ESPECIALIZADOS PARA EXECUÇÃO DE ENSAIOS DE LABORATÓRIO E CONTROLE TECNOLÓGICO DE SOLOS, ASFALTO E CONCRETO PELO SISTEMA DE REGISTRO DE PREÇOS CONFORME ANEXOS I e III DO EDITAL.\n",
      "\n",
      "NOTIFICAÇÃO DE RESULTADO DE LICITAÇÃO - Edital nº 107/2022 – Processo nº 179.566/2021 \n",
      "– Modalidade: Pregão Eletrônico nº 042/2022 – do tipo MENOR PREÇO POR LOTE – AMPLA \n",
      "PARTICIPAÇÃO - OBJETO: CONTRATAÇÃO DE SERVIÇOS TÉCNICOS ESPECIALIZADOS \n",
      "PARA EXECUÇÃO DE ENSAIOS DE LABORATÓRIO E CONTROLE TECNOLÓGICO DE \n",
      "SOLOS, ASFALTO E CONCRETO PELO SISTEMA DE REGISTRO DE PREÇOS CONFORME \n",
      "ANEXOS I e III DO EDITAL. Interessada: Secretaria de Obras. Notificamos aos interessados no \n",
      "processo licitatório epigrafado, que certame resultado FRACASSADO.\n",
      "Bauru, 03/06/2022 – Talita Cristina Pereira Vicente – Diretora da Divisão de Licitação.\n",
      "\n"
     ]
    },
    {
     "data": {
      "image/png": "[encoded data removed]",
      "text/plain": [
       "<Figure size 432x288 with 1 Axes>"
      ]
     },
     "metadata": {
      "needs_background": "light"
     },
     "output_type": "display_data"
    }
   ],
   "source": [
    "saco_alvo_template = monta_saco_palavras(doc_alvo)\n",
    "similaridades = []\n",
    "\n",
    "for paragrafo in doc_universo:\n",
    "    similaridades.append(calcula_similaridade_paragrafo(paragrafo, saco_alvo_template))\n",
    "    \n",
    "plt.plot(similaridades)\n",
    "\n",
    "max_num = 0\n",
    "max_sim = 0\n",
    "for num, sim in enumerate(similaridades):\n",
    "    if sim > max_sim:\n",
    "        max_sim = sim\n",
    "        max_num = num\n",
    "print(max_num, max_sim)\n",
    "print()\n",
    "print(doc_alvo)\n",
    "print()\n",
    "print(doc_universo[max_num])"
   ]
  },
  {
   "cell_type": "code",
   "execution_count": 58,
   "metadata": {},
   "outputs": [
    {
     "name": "stderr",
     "output_type": "stream",
     "text": [
      "  1%|▏         | 1/75 [00:01<01:21,  1.10s/it]"
     ]
    },
    {
     "name": "stdout",
     "output_type": "stream",
     "text": [
      "SIMILARIDADE: 0.08111071056538126\n",
      "SIMILARIDADE: 0.08871382443754447\n",
      "SIMILARIDADE: 0.09782319760890368\n",
      "SIMILARIDADE: 0.14567913668701624\n",
      "SIMILARIDADE: 0.15040726490773898\n",
      "SIMILARIDADE: 0.16687539144058627\n"
     ]
    },
    {
     "name": "stderr",
     "output_type": "stream",
     "text": [
      "\r",
      "  5%|▌         | 4/75 [00:05<01:45,  1.48s/it]"
     ]
    },
    {
     "name": "stdout",
     "output_type": "stream",
     "text": [
      "SIMILARIDADE: 0.17342199390482396\n"
     ]
    },
    {
     "name": "stderr",
     "output_type": "stream",
     "text": [
      "  8%|▊         | 6/75 [00:09<01:48,  1.57s/it]"
     ]
    },
    {
     "name": "stdout",
     "output_type": "stream",
     "text": [
      "SIMILARIDADE: 0.19705795007250512\n",
      "SIMILARIDADE: 0.214598768819738\n"
     ]
    },
    {
     "name": "stderr",
     "output_type": "stream",
     "text": [
      " 13%|█▎        | 10/75 [00:16<01:59,  1.83s/it]"
     ]
    },
    {
     "name": "stdout",
     "output_type": "stream",
     "text": [
      "SIMILARIDADE: 0.21644373160974678\n",
      "SIMILARIDADE: 0.3934447376823168\n"
     ]
    },
    {
     "name": "stderr",
     "output_type": "stream",
     "text": [
      "100%|██████████| 75/75 [02:11<00:00,  1.76s/it]\n"
     ]
    }
   ],
   "source": [
    "with open(path.join('BauruJSONs', '7250.json')) as arquivo:\n",
    "    edital_alvo = json.load(arquivo)\n",
    "doc_alvo = nlp(edital_alvo['especificacao'])\n",
    "\n",
    "saco_alvo_template = monta_saco_palavras(doc_alvo)\n",
    "\n",
    "edicao_max = 0\n",
    "paragrafo_max = 0\n",
    "similaridade_max = 0\n",
    "\n",
    "for edicao in tqdm(os.listdir('BauruDOC')):\n",
    "    doc_universo = []\n",
    "    with open(path.join('BauruDOC', edicao)) as arquivo:\n",
    "        do_json = json.load(arquivo)\n",
    "    for p in do_json:\n",
    "        doc_universo.append(spacy.tokens.Doc(nlp.vocab).from_json(p))\n",
    "    for num, paragrafo in enumerate(doc_universo):\n",
    "        similaridade = calcula_similaridade_paragrafo(paragrafo, saco_alvo_template)\n",
    "        if similaridade > similaridade_max:\n",
    "            edicao_max = edicao\n",
    "            paragrafo_max = num\n",
    "            similaridade_max = similaridade\n",
    "            print('SIMILARIDADE:', similaridade)"
   ]
  },
  {
   "cell_type": "code",
   "execution_count": 59,
   "metadata": {},
   "outputs": [
    {
     "name": "stdout",
     "output_type": "stream",
     "text": [
      "do_20220604_3559.pdf.xhtml.json.json_spacy 974 0.3934447376823168\n"
     ]
    }
   ],
   "source": [
    "print(edicao_max, paragrafo_max, similaridade_max)"
   ]
  }
 ],
 "metadata": {
  "kernelspec": {
   "display_name": "Python 3 (ipykernel)",
   "language": "python",
   "name": "python3"
  },
  "language_info": {
   "codemirror_mode": {
    "name": "ipython",
    "version": 3
   },
   "file_extension": ".py",
   "mimetype": "text/x-python",
   "name": "python",
   "nbconvert_exporter": "python",
   "pygments_lexer": "ipython3",
   "version": "3.10.4"
  }
 },
 "nbformat": 4,
 "nbformat_minor": 4
}
