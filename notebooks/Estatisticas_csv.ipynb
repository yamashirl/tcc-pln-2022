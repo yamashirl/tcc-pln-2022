{
 "cells": [
  {
   "cell_type": "code",
   "execution_count": 180,
   "id": "ad0d2db5",
   "metadata": {},
   "outputs": [],
   "source": [
    "import numpy as np\n",
    "import pandas as pd\n",
    "import matplotlib.pyplot as plt\n",
    "\n",
    "from tqdm import tqdm\n",
    "\n",
    "import mysql.connector\n",
    "sql_config = {\n",
    "    'user': 'root',\n",
    "    'password': 'see-cret',\n",
    "    'database': 'tcc'\n",
    "}\n"
   ]
  },
  {
   "cell_type": "code",
   "execution_count": 48,
   "id": "bee82be8",
   "metadata": {
    "collapsed": true
   },
   "outputs": [
    {
     "data": {
      "text/html": [
       "<div>\n",
       "<style scoped>\n",
       "    .dataframe tbody tr th:only-of-type {\n",
       "        vertical-align: middle;\n",
       "    }\n",
       "\n",
       "    .dataframe tbody tr th {\n",
       "        vertical-align: top;\n",
       "    }\n",
       "\n",
       "    .dataframe thead th {\n",
       "        text-align: right;\n",
       "    }\n",
       "</style>\n",
       "<table border=\"1\" class=\"dataframe\">\n",
       "  <thead>\n",
       "    <tr style=\"text-align: right;\">\n",
       "      <th></th>\n",
       "      <th>edicao_do</th>\n",
       "      <th>paragrafo</th>\n",
       "      <th>confianca</th>\n",
       "    </tr>\n",
       "  </thead>\n",
       "  <tbody>\n",
       "    <tr>\n",
       "      <th>0</th>\n",
       "      <td>2922</td>\n",
       "      <td>0</td>\n",
       "      <td>0.000000</td>\n",
       "    </tr>\n",
       "    <tr>\n",
       "      <th>1</th>\n",
       "      <td>2922</td>\n",
       "      <td>1</td>\n",
       "      <td>0.000605</td>\n",
       "    </tr>\n",
       "    <tr>\n",
       "      <th>2</th>\n",
       "      <td>2922</td>\n",
       "      <td>2</td>\n",
       "      <td>0.000000</td>\n",
       "    </tr>\n",
       "    <tr>\n",
       "      <th>3</th>\n",
       "      <td>2922</td>\n",
       "      <td>3</td>\n",
       "      <td>0.032316</td>\n",
       "    </tr>\n",
       "    <tr>\n",
       "      <th>4</th>\n",
       "      <td>2922</td>\n",
       "      <td>4</td>\n",
       "      <td>0.005302</td>\n",
       "    </tr>\n",
       "    <tr>\n",
       "      <th>...</th>\n",
       "      <td>...</td>\n",
       "      <td>...</td>\n",
       "      <td>...</td>\n",
       "    </tr>\n",
       "    <tr>\n",
       "      <th>2009952</th>\n",
       "      <td>3189</td>\n",
       "      <td>2302</td>\n",
       "      <td>0.028073</td>\n",
       "    </tr>\n",
       "    <tr>\n",
       "      <th>2009953</th>\n",
       "      <td>3189</td>\n",
       "      <td>2303</td>\n",
       "      <td>1.032651</td>\n",
       "    </tr>\n",
       "    <tr>\n",
       "      <th>2009954</th>\n",
       "      <td>3189</td>\n",
       "      <td>2304</td>\n",
       "      <td>0.720665</td>\n",
       "    </tr>\n",
       "    <tr>\n",
       "      <th>2009955</th>\n",
       "      <td>3189</td>\n",
       "      <td>2305</td>\n",
       "      <td>1.406380</td>\n",
       "    </tr>\n",
       "    <tr>\n",
       "      <th>2009956</th>\n",
       "      <td>3189</td>\n",
       "      <td>2306</td>\n",
       "      <td>0.000000</td>\n",
       "    </tr>\n",
       "  </tbody>\n",
       "</table>\n",
       "<p>2009957 rows × 3 columns</p>\n",
       "</div>"
      ],
      "text/plain": [
       "         edicao_do  paragrafo  confianca\n",
       "0             2922          0   0.000000\n",
       "1             2922          1   0.000605\n",
       "2             2922          2   0.000000\n",
       "3             2922          3   0.032316\n",
       "4             2922          4   0.005302\n",
       "...            ...        ...        ...\n",
       "2009952       3189       2302   0.028073\n",
       "2009953       3189       2303   1.032651\n",
       "2009954       3189       2304   0.720665\n",
       "2009955       3189       2305   1.406380\n",
       "2009956       3189       2306   0.000000\n",
       "\n",
       "[2009957 rows x 3 columns]"
      ]
     },
     "execution_count": 48,
     "metadata": {},
     "output_type": "execute_result"
    }
   ],
   "source": [
    "estatisticas = pd.read_csv('estatisticas_conf.csv', header = 0)\n",
    "estatisticas"
   ]
  },
  {
   "cell_type": "code",
   "execution_count": 68,
   "id": "5b65dc56",
   "metadata": {
    "collapsed": true
   },
   "outputs": [
    {
     "data": {
      "text/html": [
       "<div>\n",
       "<style scoped>\n",
       "    .dataframe tbody tr th:only-of-type {\n",
       "        vertical-align: middle;\n",
       "    }\n",
       "\n",
       "    .dataframe tbody tr th {\n",
       "        vertical-align: top;\n",
       "    }\n",
       "\n",
       "    .dataframe thead th {\n",
       "        text-align: right;\n",
       "    }\n",
       "</style>\n",
       "<table border=\"1\" class=\"dataframe\">\n",
       "  <thead>\n",
       "    <tr style=\"text-align: right;\">\n",
       "      <th></th>\n",
       "      <th>edicao_do</th>\n",
       "      <th>max_paragrafo</th>\n",
       "    </tr>\n",
       "  </thead>\n",
       "  <tbody>\n",
       "    <tr>\n",
       "      <th>0</th>\n",
       "      <td>2922</td>\n",
       "      <td>1311</td>\n",
       "    </tr>\n",
       "    <tr>\n",
       "      <th>1</th>\n",
       "      <td>3451</td>\n",
       "      <td>2720</td>\n",
       "    </tr>\n",
       "    <tr>\n",
       "      <th>2</th>\n",
       "      <td>3102</td>\n",
       "      <td>2104</td>\n",
       "    </tr>\n",
       "    <tr>\n",
       "      <th>3</th>\n",
       "      <td>3210</td>\n",
       "      <td>2647</td>\n",
       "    </tr>\n",
       "    <tr>\n",
       "      <th>4</th>\n",
       "      <td>2951</td>\n",
       "      <td>1555</td>\n",
       "    </tr>\n",
       "    <tr>\n",
       "      <th>...</th>\n",
       "      <td>...</td>\n",
       "      <td>...</td>\n",
       "    </tr>\n",
       "    <tr>\n",
       "      <th>945</th>\n",
       "      <td>3035</td>\n",
       "      <td>1667</td>\n",
       "    </tr>\n",
       "    <tr>\n",
       "      <th>946</th>\n",
       "      <td>3128</td>\n",
       "      <td>1551</td>\n",
       "    </tr>\n",
       "    <tr>\n",
       "      <th>947</th>\n",
       "      <td>3218</td>\n",
       "      <td>900</td>\n",
       "    </tr>\n",
       "    <tr>\n",
       "      <th>948</th>\n",
       "      <td>2727</td>\n",
       "      <td>1167</td>\n",
       "    </tr>\n",
       "    <tr>\n",
       "      <th>949</th>\n",
       "      <td>3189</td>\n",
       "      <td>2306</td>\n",
       "    </tr>\n",
       "  </tbody>\n",
       "</table>\n",
       "<p>950 rows × 2 columns</p>\n",
       "</div>"
      ],
      "text/plain": [
       "     edicao_do  max_paragrafo\n",
       "0         2922           1311\n",
       "1         3451           2720\n",
       "2         3102           2104\n",
       "3         3210           2647\n",
       "4         2951           1555\n",
       "..         ...            ...\n",
       "945       3035           1667\n",
       "946       3128           1551\n",
       "947       3218            900\n",
       "948       2727           1167\n",
       "949       3189           2306\n",
       "\n",
       "[950 rows x 2 columns]"
      ]
     },
     "execution_count": 68,
     "metadata": {},
     "output_type": "execute_result"
    }
   ],
   "source": [
    "edicoes = {}\n",
    "for edicao_num in estatisticas['edicao_do'].unique():\n",
    "    slc = estatisticas[estatisticas['edicao_do'] == edicao_num]\n",
    "    edicoes[edicao_num] = slc['paragrafo'].max()\n",
    "edicoes_df = pd.DataFrame(edicoes.items(), columns = ['edicao_do', 'max_paragrafo'])\n",
    "edicoes_df"
   ]
  },
  {
   "cell_type": "code",
   "execution_count": 168,
   "id": "0f7d7379",
   "metadata": {
    "scrolled": true
   },
   "outputs": [
    {
     "name": "stdout",
     "output_type": "stream",
     "text": [
      "      edicao_do  paragrafo  confianca\n",
      "918        2922        918  12.424381\n",
      "921        2922        921  13.705620\n",
      "922        2922        922   9.164628\n",
      "925        2922        925  20.879584\n",
      "926        2922        926  19.193300\n",
      "974        2922        974  18.313640\n",
      "975        2922        975  19.787011\n",
      "979        2922        979  14.074758\n",
      "980        2922        980  18.950185\n",
      "981        2922        981  19.196089\n",
      "991        2922        991   9.072372\n",
      "992        2922        992  10.563647\n",
      "1000       2922       1000  12.770943\n",
      "1101       2922       1101  18.484095\n"
     ]
    },
    {
     "data": {
      "text/plain": [
       "<matplotlib.collections.PathCollection at 0x7f2c86e93c10>"
      ]
     },
     "execution_count": 168,
     "metadata": {},
     "output_type": "execute_result"
    },
    {
     "data": {
      "image/png": "[encoded data removed]",
      "text/plain": [
       "<Figure size 432x288 with 1 Axes>"
      ]
     },
     "metadata": {
      "needs_background": "light"
     },
     "output_type": "display_data"
    }
   ],
   "source": [
    "def get_percentil_df(val, edicao_do):\n",
    "    df_edicao = estatisticas[estatisticas['edicao_do'] == edicao_do]\n",
    "    x = df_edicao['paragrafo']\n",
    "    y = df_edicao['confianca']\n",
    "\n",
    "    percentil = df_edicao['confianca'].quantile(val)\n",
    "    \n",
    "    return df_edicao[df_edicao['confianca'] > percentil]\n",
    "    \n",
    "edicao_do = estatisticas['edicao_do'].unique()[0]\n",
    "print(get_percentil_df(.99, edicao_do))\n",
    "\n",
    "x_p = df_edicao[df_edicao['confianca'] > percentil]['paragrafo']\n",
    "y_p = df_edicao[df_edicao['confianca'] > percentil]['confianca']\n",
    "\n",
    "plt.xlabel('nº parágrafo')\n",
    "plt.ylabel('confiança')\n",
    "plt.plot(x, y, color = 'lightblue')\n",
    "plt.scatter(x_p, y_p, color = 'orange')"
   ]
  },
  {
   "cell_type": "code",
   "execution_count": 193,
   "id": "ed56dbfb",
   "metadata": {},
   "outputs": [
    {
     "data": {
      "text/plain": [
       "<Response [403]>"
      ]
     },
     "execution_count": 193,
     "metadata": {},
     "output_type": "execute_result"
    }
   ],
   "source": [
    "import requests\n",
    "web_session = requests.session()\n",
    "base_url = 'http://10.0.0.20:8000/'\n",
    "web_session.post(base_url + 'comparador/')"
   ]
  },
  {
   "cell_type": "code",
   "execution_count": 194,
   "id": "c8fd107d",
   "metadata": {},
   "outputs": [
    {
     "name": "stderr",
     "output_type": "stream",
     "text": [
      "100%|██████████| 950/950 [31:33:47<00:00, 119.61s/it]   \n"
     ]
    }
   ],
   "source": [
    "with mysql.connector.connect(**sql_config) as connection:\n",
    "    cursor = connection.cursor()\n",
    "    \n",
    "    for edicao_do in tqdm(estatisticas['edicao_do'].unique()):\n",
    "        percentil_df = get_percentil_df(.99, edicao_do)\n",
    "        for n, edicao_do, paragrafo, confianca in percentil_df.itertuples():\n",
    "            cursor.execute('SELECT paragrafo_id FROM paragrafo WHERE edicao = %s AND paragrafo = %s', (edicao_do, paragrafo))\n",
    "            paragrafo_id, = cursor.fetchone()\n",
    "            cursor.fetchall()\n",
    "            web_response = web_session.get(base_url + 'comparador/comparar/' + str(paragrafo_id) + '/api')\n",
    "            with open('percentil.csv', 'a') as file:\n",
    "                file.write(str(paragrafo_id)+ ',' + web_response.text)"
   ]
  },
  {
   "cell_type": "code",
   "execution_count": 83,
   "id": "fa10def3",
   "metadata": {},
   "outputs": [
    {
     "data": {
      "text/plain": [
       "<matplotlib.collections.PathCollection at 0x7f2c8e128e50>"
      ]
     },
     "execution_count": 83,
     "metadata": {},
     "output_type": "execute_result"
    },
    {
     "data": {
      "image/png": "[encoded data removed]",
      "text/plain": [
       "<Figure size 432x288 with 1 Axes>"
      ]
     },
     "metadata": {
      "needs_background": "light"
     },
     "output_type": "display_data"
    }
   ],
   "source": [
    "edicoes_n = len(edicoes_df)\n",
    "means = np.zeros(edicoes_n)\n",
    "stds = np.zeros(edicoes_n)\n",
    "for n, edicao_do in enumerate(edicoes_df['edicao_do']):\n",
    "    edicao_df = estatisticas[estatisticas['edicao_do'] == edicao_do]\n",
    "    means[n] = edicao_df['confianca'].mean()\n",
    "    stds[n] = edicao_df['confianca'].std()\n",
    "\n",
    "plt.xlabel('média')\n",
    "plt.ylabel('desivo padrão')\n",
    "plt.scatter(means, stds, s=1)"
   ]
  },
  {
   "cell_type": "code",
   "execution_count": 162,
   "id": "30f8f956",
   "metadata": {},
   "outputs": [
    {
     "data": {
      "text/plain": [
       "<matplotlib.collections.PathCollection at 0x7f2c86b053c0>"
      ]
     },
     "execution_count": 162,
     "metadata": {},
     "output_type": "execute_result"
    },
    {
     "data": {
      "image/png": "[encoded data removed]",
      "text/plain": [
       "<Figure size 432x288 with 1 Axes>"
      ]
     },
     "metadata": {
      "needs_background": "light"
     },
     "output_type": "display_data"
    }
   ],
   "source": [
    "edicoes_n = len(edicoes_df)\n",
    "means = np.zeros(edicoes_n)\n",
    "stds = np.zeros(edicoes_n)\n",
    "\n",
    "for n, edicao_do, max_paragrafo in edicoes_df.itertuples():\n",
    "    edicao_df = estatisticas[estatisticas['edicao_do'] == edicao_do]\n",
    "    # quantil 0.0 vira um blob no meio com desvio aprox. .3\n",
    "    percentil = edicao_df['confianca'].quantile(.99)\n",
    "    acima = edicao_df[edicao_df['confianca'] > percentil]\n",
    "    \n",
    "    x_p = (acima['paragrafo'])/max_paragrafo\n",
    "    means[n] = x_p.mean()\n",
    "    stds[n] = x_p.std()\n",
    "\n",
    "plt.xlabel('média')\n",
    "plt.ylabel('desvio padrão')\n",
    "plt.axis([-0.1, 1.1, -0.1, 1.1])\n",
    "plt.scatter(means, stds, s=3)\n"
   ]
  }
 ],
 "metadata": {
  "kernelspec": {
   "display_name": "Python 3 (ipykernel)",
   "language": "python",
   "name": "python3"
  },
  "language_info": {
   "codemirror_mode": {
    "name": "ipython",
    "version": 3
   },
   "file_extension": ".py",
   "mimetype": "text/x-python",
   "name": "python",
   "nbconvert_exporter": "python",
   "pygments_lexer": "ipython3",
   "version": "3.10.4"
  }
 },
 "nbformat": 4,
 "nbformat_minor": 5
}
